{
  "nbformat": 4,
  "nbformat_minor": 0,
  "metadata": {
    "colab": {
      "provenance": []
    },
    "kernelspec": {
      "name": "python3",
      "display_name": "Python 3"
    },
    "language_info": {
      "name": "python"
    }
  },
  "cells": [
    {
      "cell_type": "markdown",
      "source": [
        "### **Introduction to Statistics**"
      ],
      "metadata": {
        "id": "p0rm999bgfF1"
      }
    },
    {
      "cell_type": "code",
      "execution_count": 2,
      "metadata": {
        "id": "KPEpjaeqqyWW",
        "colab": {
          "base_uri": "https://localhost:8080/"
        },
        "outputId": "469a2aec-f50e-4103-a36e-12cb007afd86"
      },
      "outputs": [
        {
          "output_type": "stream",
          "name": "stdout",
          "text": [
            "42.13272727272727\n",
            "12.59\n",
            "44.650000000000006\n",
            "14.58\n"
          ]
        }
      ],
      "source": [
        "import pandas as pd\n",
        "import numpy as np\n",
        "import seaborn as sns\n",
        "\n",
        "food_consumption = pd.read_csv(\"food_consumption.csv\")\n",
        "# Filter for Belgium\n",
        "be_consumption = food_consumption[food_consumption[\"country\"] == \"Belgium\"]\n",
        "\n",
        "# Filter for USA\n",
        "usa_consumption = food_consumption[food_consumption[\"country\"] == \"USA\"]\n",
        "\n",
        "# Calculate mean and median consumption in Belgium\n",
        "print(np.mean(be_consumption[\"consumption\"]))\n",
        "print(np.median(be_consumption[\"consumption\"]))\n",
        "\n",
        "# Calculate mean and median consumption in USA\n",
        "print(np.mean(usa_consumption[\"consumption\"]))\n",
        "print(np.median(usa_consumption[\"consumption\"]))"
      ]
    },
    {
      "cell_type": "code",
      "source": [
        "import pandas as pd\n",
        "import numpy as np\n",
        "import seaborn as sns\n",
        "\n",
        "food_consumption = pd.read_csv(\"food_consumption.csv\")\n",
        "# Subset for food_category equals rice\n",
        "rice_consumption = food_consumption[food_consumption[\"food_category\"] == \"rice\"]\n",
        "\n",
        "# Histogram of co2_emission for rice and show plot\n",
        "sns.histplot(data=rice_consumption[\"co2_emission\"], bins=7, color=\"skyblue\")\n",
        "plt.show()"
      ],
      "metadata": {
        "colab": {
          "base_uri": "https://localhost:8080/",
          "height": 616
        },
        "id": "DI6zODfvgJII",
        "outputId": "58aab5da-eb31-470d-e818-2618327b5c77"
      },
      "execution_count": 10,
      "outputs": [
        {
          "output_type": "error",
          "ename": "NameError",
          "evalue": "name 'plt' is not defined",
          "traceback": [
            "\u001b[0;31m---------------------------------------------------------------------------\u001b[0m",
            "\u001b[0;31mNameError\u001b[0m                                 Traceback (most recent call last)",
            "\u001b[0;32m<ipython-input-10-8c2d2563cec2>\u001b[0m in \u001b[0;36m<cell line: 11>\u001b[0;34m()\u001b[0m\n\u001b[1;32m      9\u001b[0m \u001b[0;31m# Histogram of co2_emission for rice and show plot\u001b[0m\u001b[0;34m\u001b[0m\u001b[0;34m\u001b[0m\u001b[0m\n\u001b[1;32m     10\u001b[0m \u001b[0msns\u001b[0m\u001b[0;34m.\u001b[0m\u001b[0mhistplot\u001b[0m\u001b[0;34m(\u001b[0m\u001b[0mdata\u001b[0m\u001b[0;34m=\u001b[0m\u001b[0mrice_consumption\u001b[0m\u001b[0;34m[\u001b[0m\u001b[0;34m\"co2_emission\"\u001b[0m\u001b[0;34m]\u001b[0m\u001b[0;34m,\u001b[0m \u001b[0mbins\u001b[0m\u001b[0;34m=\u001b[0m\u001b[0;36m7\u001b[0m\u001b[0;34m,\u001b[0m \u001b[0mcolor\u001b[0m\u001b[0;34m=\u001b[0m\u001b[0;34m\"skyblue\"\u001b[0m\u001b[0;34m)\u001b[0m\u001b[0;34m\u001b[0m\u001b[0;34m\u001b[0m\u001b[0m\n\u001b[0;32m---> 11\u001b[0;31m \u001b[0mplt\u001b[0m\u001b[0;34m.\u001b[0m\u001b[0mshow\u001b[0m\u001b[0;34m(\u001b[0m\u001b[0;34m)\u001b[0m\u001b[0;34m\u001b[0m\u001b[0;34m\u001b[0m\u001b[0m\n\u001b[0m",
            "\u001b[0;31mNameError\u001b[0m: name 'plt' is not defined"
          ]
        },
        {
          "output_type": "display_data",
          "data": {
            "text/plain": [
              "<Figure size 640x480 with 1 Axes>"
            ],
            "image/png": "[encoded data removed]"
          },
          "metadata": {}
        }
      ]
    }
  ]
}