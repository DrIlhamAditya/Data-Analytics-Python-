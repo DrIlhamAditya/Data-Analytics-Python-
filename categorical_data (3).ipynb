{
  "nbformat": 4,
  "nbformat_minor": 0,
  "metadata": {
    "colab": {
      "provenance": []
    },
    "kernelspec": {
      "name": "python3",
      "display_name": "Python 3"
    },
    "language_info": {
      "name": "python"
    }
  },
  "cells": [
    {
      "cell_type": "markdown",
      "source": [
        "### **Categorical Data in Python**"
      ],
      "metadata": {
        "id": "r4FF-MjzwtXC"
      }
    },
    {
      "cell_type": "code",
      "execution_count": null,
      "metadata": {
        "colab": {
          "base_uri": "https://localhost:8080/"
        },
        "id": "kGur88FUltUT",
        "outputId": "2ef4a165-c652-4901-d7de-bf9230e81f8e"
      },
      "outputs": [
        {
          "output_type": "stream",
          "name": "stdout",
          "text": [
            "  manufacturer_name model_name transmission   color  odometer_value  \\\n",
            "0            Subaru    Outback    automatic  silver          190000   \n",
            "1            Subaru    Outback    automatic    blue          290000   \n",
            "2            Subaru   Forester    automatic     red          402000   \n",
            "3            Subaru    Impreza   mechanical    blue           10000   \n",
            "4            Subaru     Legacy    automatic   black          280000   \n",
            "\n",
            "   year_produced engine_fuel  engine_has_gas engine_type  engine_capacity  \\\n",
            "0           2010    gasoline           False    gasoline              2.5   \n",
            "1           2002    gasoline           False    gasoline              3.0   \n",
            "2           2001    gasoline           False    gasoline              2.5   \n",
            "3           1999    gasoline           False    gasoline              3.0   \n",
            "4           2001    gasoline           False    gasoline              2.5   \n",
            "\n",
            "   ... feature_1  feature_2 feature_3 feature_4  feature_5  feature_6  \\\n",
            "0  ...      True       True      True     False       True      False   \n",
            "1  ...      True      False     False      True       True      False   \n",
            "2  ...      True      False     False     False      False      False   \n",
            "3  ...     False      False     False     False      False      False   \n",
            "4  ...      True      False      True      True      False      False   \n",
            "\n",
            "  feature_7  feature_8  feature_9  duration_listed  \n",
            "0      True       True       True               16  \n",
            "1     False      False       True               83  \n",
            "2     False       True       True              151  \n",
            "3     False      False      False               86  \n",
            "4     False      False       True                7  \n",
            "\n",
            "[5 rows x 30 columns]\n"
          ]
        }
      ],
      "source": [
        "#import the dataset\n",
        "import pandas as pd\n",
        "import seaborn as sns\n",
        "\n",
        "cars = pd.read_csv(\"cars.csv\")\n",
        "print(cars.head())"
      ]
    },
    {
      "cell_type": "code",
      "source": [
        "#print the columns\n",
        "import pandas as pd\n",
        "import seaborn as sns\n",
        "\n",
        "cars = pd.read_csv(\"cars.csv\")\n",
        "print(cars.columns)"
      ],
      "metadata": {
        "colab": {
          "base_uri": "https://localhost:8080/"
        },
        "id": "rCEgJZVon-a1",
        "outputId": "442d7e9d-5ba3-46de-e3e0-ed99b817d96a"
      },
      "execution_count": null,
      "outputs": [
        {
          "output_type": "stream",
          "name": "stdout",
          "text": [
            "Index(['manufacturer_name', 'model_name', 'transmission', 'color',\n",
            "       'odometer_value', 'year_produced', 'engine_fuel', 'engine_has_gas',\n",
            "       'engine_type', 'engine_capacity', 'body_type', 'has_warranty', 'state',\n",
            "       'drivetrain', 'price_usd', 'is_exchangeable', 'location_region',\n",
            "       'number_of_photos', 'up_counter', 'feature_0', 'feature_1', 'feature_2',\n",
            "       'feature_3', 'feature_4', 'feature_5', 'feature_6', 'feature_7',\n",
            "       'feature_8', 'feature_9', 'duration_listed'],\n",
            "      dtype='object')\n"
          ]
        }
      ]
    },
    {
      "cell_type": "code",
      "source": [
        "#reveal data types each column\n",
        "import pandas as pd\n",
        "import seaborn as sns\n",
        "\n",
        "cars = pd.read_csv(\"cars.csv\")\n",
        "print(cars.dtypes)"
      ],
      "metadata": {
        "colab": {
          "base_uri": "https://localhost:8080/"
        },
        "id": "STLhhGIgoGAN",
        "outputId": "9d552b84-f2d5-4f75-8171-cf6a27c6d78f"
      },
      "execution_count": null,
      "outputs": [
        {
          "output_type": "stream",
          "name": "stdout",
          "text": [
            "manufacturer_name     object\n",
            "model_name            object\n",
            "transmission          object\n",
            "color                 object\n",
            "odometer_value         int64\n",
            "year_produced          int64\n",
            "engine_fuel           object\n",
            "engine_has_gas          bool\n",
            "engine_type           object\n",
            "engine_capacity      float64\n",
            "body_type             object\n",
            "has_warranty            bool\n",
            "state                 object\n",
            "drivetrain            object\n",
            "price_usd            float64\n",
            "is_exchangeable         bool\n",
            "location_region       object\n",
            "number_of_photos       int64\n",
            "up_counter             int64\n",
            "feature_0               bool\n",
            "feature_1               bool\n",
            "feature_2               bool\n",
            "feature_3               bool\n",
            "feature_4               bool\n",
            "feature_5               bool\n",
            "feature_6               bool\n",
            "feature_7               bool\n",
            "feature_8               bool\n",
            "feature_9               bool\n",
            "duration_listed        int64\n",
            "dtype: object\n"
          ]
        }
      ]
    },
    {
      "cell_type": "code",
      "source": [
        "#create statistics summarization of manufacturer_name\n",
        "import pandas as pd\n",
        "import seaborn as sns\n",
        "\n",
        "cars = pd.read_csv(\"cars.csv\")\n",
        "print(cars[\"manufacturer_name\"].describe())"
      ],
      "metadata": {
        "colab": {
          "base_uri": "https://localhost:8080/"
        },
        "id": "cgqK-GAKoTdo",
        "outputId": "9de05262-3172-44ec-e504-5e21619dc9c5"
      },
      "execution_count": null,
      "outputs": [
        {
          "output_type": "stream",
          "name": "stdout",
          "text": [
            "count          38531\n",
            "unique            55\n",
            "top       Volkswagen\n",
            "freq            4243\n",
            "Name: manufacturer_name, dtype: object\n"
          ]
        }
      ]
    },
    {
      "cell_type": "code",
      "source": [
        "#using value counts to reveal the frequency\n",
        "import pandas as pd\n",
        "import seaborn as sns\n",
        "\n",
        "cars = pd.read_csv(\"cars.csv\")\n",
        "print(cars[\"manufacturer_name\"].value_counts())"
      ],
      "metadata": {
        "colab": {
          "base_uri": "https://localhost:8080/"
        },
        "id": "UNOnNcnFslCF",
        "outputId": "52f46ab0-757d-4ff7-b066-a123fc0d6bd5"
      },
      "execution_count": null,
      "outputs": [
        {
          "output_type": "stream",
          "name": "stdout",
          "text": [
            "manufacturer_name\n",
            "Volkswagen       4243\n",
            "Opel             2759\n",
            "BMW              2610\n",
            "Ford             2566\n",
            "Renault          2493\n",
            "Audi             2468\n",
            "Mercedes-Benz    2237\n",
            "Peugeot          1909\n",
            "Citroen          1562\n",
            "Nissan           1361\n",
            "Mazda            1328\n",
            "Toyota           1246\n",
            "Hyundai          1116\n",
            "Skoda            1089\n",
            "Kia               912\n",
            "Mitsubishi        887\n",
            "Fiat              824\n",
            "Honda             797\n",
            "Volvo             721\n",
            "ВАЗ               481\n",
            "Chevrolet         436\n",
            "Chrysler          410\n",
            "Seat              303\n",
            "Dodge             297\n",
            "Subaru            291\n",
            "Rover             235\n",
            "Suzuki            234\n",
            "Daewoo            221\n",
            "Lexus             213\n",
            "Alfa Romeo        207\n",
            "ГАЗ               200\n",
            "Land Rover        184\n",
            "Infiniti          162\n",
            "LADA              146\n",
            "Iveco             139\n",
            "Saab              108\n",
            "Jeep              107\n",
            "Lancia             92\n",
            "SsangYong          79\n",
            "УАЗ                74\n",
            "Geely              71\n",
            "Mini               68\n",
            "Acura              66\n",
            "Porsche            61\n",
            "Dacia              59\n",
            "Chery              58\n",
            "Москвич            55\n",
            "Jaguar             53\n",
            "Buick              47\n",
            "Lifan              47\n",
            "Cadillac           43\n",
            "Pontiac            42\n",
            "ЗАЗ                42\n",
            "Lincoln            36\n",
            "Great Wall         36\n",
            "Name: count, dtype: int64\n"
          ]
        }
      ]
    },
    {
      "cell_type": "code",
      "source": [
        "#using the normalized value counts to reveal the unique values frequency\n",
        "import pandas as pd\n",
        "import seaborn as sns\n",
        "\n",
        "cars = pd.read_csv(\"cars.csv\")\n",
        "print(cars[\"manufacturer_name\"].value_counts(normalize=True))"
      ],
      "metadata": {
        "colab": {
          "base_uri": "https://localhost:8080/"
        },
        "id": "fC6Rf_87tCTt",
        "outputId": "e76f6589-81e2-4f1a-8878-654e4254c122"
      },
      "execution_count": null,
      "outputs": [
        {
          "output_type": "stream",
          "name": "stdout",
          "text": [
            "manufacturer_name\n",
            "Volkswagen       0.110119\n",
            "Opel             0.071605\n",
            "BMW              0.067738\n",
            "Ford             0.066596\n",
            "Renault          0.064701\n",
            "Audi             0.064052\n",
            "Mercedes-Benz    0.058057\n",
            "Peugeot          0.049545\n",
            "Citroen          0.040539\n",
            "Nissan           0.035322\n",
            "Mazda            0.034466\n",
            "Toyota           0.032338\n",
            "Hyundai          0.028964\n",
            "Skoda            0.028263\n",
            "Kia              0.023669\n",
            "Mitsubishi       0.023020\n",
            "Fiat             0.021385\n",
            "Honda            0.020685\n",
            "Volvo            0.018712\n",
            "ВАЗ              0.012483\n",
            "Chevrolet        0.011316\n",
            "Chrysler         0.010641\n",
            "Seat             0.007864\n",
            "Dodge            0.007708\n",
            "Subaru           0.007552\n",
            "Rover            0.006099\n",
            "Suzuki           0.006073\n",
            "Daewoo           0.005736\n",
            "Lexus            0.005528\n",
            "Alfa Romeo       0.005372\n",
            "ГАЗ              0.005191\n",
            "Land Rover       0.004775\n",
            "Infiniti         0.004204\n",
            "LADA             0.003789\n",
            "Iveco            0.003607\n",
            "Saab             0.002803\n",
            "Jeep             0.002777\n",
            "Lancia           0.002388\n",
            "SsangYong        0.002050\n",
            "УАЗ              0.001921\n",
            "Geely            0.001843\n",
            "Mini             0.001765\n",
            "Acura            0.001713\n",
            "Porsche          0.001583\n",
            "Dacia            0.001531\n",
            "Chery            0.001505\n",
            "Москвич          0.001427\n",
            "Jaguar           0.001376\n",
            "Buick            0.001220\n",
            "Lifan            0.001220\n",
            "Cadillac         0.001116\n",
            "Pontiac          0.001090\n",
            "ЗАЗ              0.001090\n",
            "Lincoln          0.000934\n",
            "Great Wall       0.000934\n",
            "Name: proportion, dtype: float64\n"
          ]
        }
      ]
    },
    {
      "cell_type": "code",
      "source": [
        "#grouping data by category\n",
        "import pandas as pd\n",
        "import seaborn as sns\n",
        "\n",
        "cars = pd.read_csv(\"cars.csv\")\n",
        "cr = cars.groupby(by=[\"engine_fuel\", \"engine_type\"])\n",
        "print(cr.size())"
      ],
      "metadata": {
        "id": "vwiwWWiNtKsG",
        "colab": {
          "base_uri": "https://localhost:8080/"
        },
        "outputId": "c823af4a-94c9-4844-bcaf-6f9dad8903a5"
      },
      "execution_count": null,
      "outputs": [
        {
          "output_type": "stream",
          "name": "stdout",
          "text": [
            "engine_fuel    engine_type\n",
            "diesel         diesel         1551\n",
            "gas            gasoline        232\n",
            "gasoline       gasoline       3551\n",
            "hybrid-diesel  diesel            1\n",
            "hybrid-petrol  gasoline         36\n",
            "dtype: int64\n"
          ]
        }
      ]
    },
    {
      "cell_type": "code",
      "source": [
        "#using pandas function effectively\n",
        "import pandas as pd\n",
        "import seaborn as sns\n",
        "\n",
        "cars = pd.read_csv(\"cars.csv\")\n",
        "list_car = [\"transmission\",\"engine_type\"]\n",
        "#create a GroupBy object using the list\n",
        "gb = cars.groupby(by=list_car)\n",
        "#find the mean for the variable \"odometer_value\"\n",
        "print(gb[\"odometer_value\"].mean())"
      ],
      "metadata": {
        "colab": {
          "base_uri": "https://localhost:8080/"
        },
        "id": "4L2EUWgnJgSI",
        "outputId": "6b74b6f4-1e67-415c-f73a-3c508f118e74"
      },
      "execution_count": null,
      "outputs": [
        {
          "output_type": "stream",
          "name": "stdout",
          "text": [
            "transmission  engine_type\n",
            "automatic     diesel         239832.923747\n",
            "              electric        38000.000000\n",
            "              gasoline       191539.370337\n",
            "mechanical    diesel         295563.864700\n",
            "              gasoline       235531.036430\n",
            "Name: odometer_value, dtype: float64\n"
          ]
        }
      ]
    },
    {
      "cell_type": "code",
      "source": [
        "# Import necessary libraries\n",
        "import pandas as pd\n",
        "import seaborn as sns\n",
        "import matplotlib.pyplot as plt\n",
        "\n",
        "# Load the data\n",
        "cars = pd.read_csv(\"cars.csv\")\n",
        "\n",
        "# Check frequency counts while also printing the NaN count\n",
        "cars[\"engine_fuel\"] = cars[\"engine_fuel\"].astype(\"category\")\n",
        "print(cars[\"engine_fuel\"].cat.categories)\n",
        "# Switch to a categorical variable\n",
        "cars[\"engine_fuel\"] = cars[\"engine_fuel\"].astype(\"category\")\n",
        "# Add new categories only if they are not already present\n",
        "new_categories = [\"hydrogen-powered\"]\n",
        "new_categories = [cat for cat in new_categories if cat not in cars[\"engine_fuel\"].cat.categories]\n",
        "cars[\"engine_fuel\"] = cars[\"engine_fuel\"].cat.add_categories(new_categories)\n",
        "# Check frequency counts one more time\n",
        "print(cars[\"engine_fuel\"].value_counts(dropna=False))"
      ],
      "metadata": {
        "colab": {
          "base_uri": "https://localhost:8080/"
        },
        "id": "OOH_ZEH3Xahb",
        "outputId": "1e2d3389-93cd-41bf-b9dd-6a4ae8093da0"
      },
      "execution_count": null,
      "outputs": [
        {
          "output_type": "stream",
          "name": "stdout",
          "text": [
            "Index(['diesel', 'electric', 'gas', 'gasoline', 'hybrid-diesel',\n",
            "       'hybrid-petrol'],\n",
            "      dtype='object')\n",
            "engine_fuel\n",
            "gasoline            24065\n",
            "diesel              12872\n",
            "gas                  1347\n",
            "hybrid-petrol         235\n",
            "electric               10\n",
            "hybrid-diesel           2\n",
            "hydrogen-powered        0\n",
            "Name: count, dtype: int64\n"
          ]
        }
      ]
    },
    {
      "cell_type": "code",
      "source": [
        "# renaming categories\n",
        "# Import necessary libraries\n",
        "import pandas as pd\n",
        "import seaborn as sns\n",
        "import matplotlib.pyplot as plt\n",
        "\n",
        "# Load the data\n",
        "cars = pd.read_csv(\"cars.csv\")\n",
        "# convert to categorical data\n",
        "cars[\"transmission\"] = cars[\"transmission\"].astype(\"category\")\n",
        "# create my_change dictionary\n",
        "my_change = {\n",
        "    \"mechanical\": \"M/T\",\n",
        "    \"automatic\": \"A/T\",\n",
        "}\n",
        "# rename categories that listed in dictionary\n",
        "cars[\"transmission\"] = cars[\"transmission\"].cat.rename_categories(my_change)\n",
        "# print the result\n",
        "print(cars[\"transmission\"].cat.categories)"
      ],
      "metadata": {
        "id": "XL3L37V8aaWZ",
        "colab": {
          "base_uri": "https://localhost:8080/"
        },
        "outputId": "ccd0f09a-730a-4cce-840e-afb9805a3d21"
      },
      "execution_count": null,
      "outputs": [
        {
          "output_type": "stream",
          "name": "stdout",
          "text": [
            "Index(['A/T', 'M/T'], dtype='object')\n"
          ]
        }
      ]
    },
    {
      "cell_type": "code",
      "source": [
        "# collapsing categories\n",
        "# Import necessary libraries\n",
        "import pandas as pd\n",
        "import seaborn as sns\n",
        "import matplotlib.pyplot as plt\n",
        "\n",
        "# Load the data\n",
        "cars = pd.read_csv(\"cars.csv\")\n",
        "# search for the issue\n",
        "cars[\"engine_fuel\"] = cars[\"engine_fuel\"].astype(\"category\")\n",
        "print(cars[\"engine_fuel\"].cat.categories)\n",
        "#create update_dict\n",
        "update_dict = {\n",
        "    \"gas\": \"petrol\",\n",
        "    \"gasoline\": \"petrol\",\n",
        "}\n",
        "#create new column, engine_fuel_collapsed\n",
        "cars[\"engine_fuel_collapsed\"] = cars[\"engine_fuel\"].replace(update_dict)\n",
        "# convert new column to categorical\n",
        "cars[\"engine_fuel_collapsed\"] = cars[\"engine_fuel_collapsed\"].astype(\"category\")\n",
        "# print the result\n",
        "print(cars[\"engine_fuel_collapsed\"].value_counts())"
      ],
      "metadata": {
        "colab": {
          "base_uri": "https://localhost:8080/"
        },
        "id": "mZe8p9mzSJHQ",
        "outputId": "f75556b4-648a-4502-d5a2-49986274733e"
      },
      "execution_count": null,
      "outputs": [
        {
          "output_type": "stream",
          "name": "stdout",
          "text": [
            "Index(['diesel', 'electric', 'gas', 'gasoline', 'hybrid-diesel',\n",
            "       'hybrid-petrol'],\n",
            "      dtype='object')\n",
            "engine_fuel_collapsed\n",
            "petrol           25412\n",
            "diesel           12872\n",
            "hybrid-petrol      235\n",
            "electric            10\n",
            "hybrid-diesel        2\n",
            "Name: count, dtype: int64\n"
          ]
        }
      ]
    },
    {
      "cell_type": "code",
      "source": [
        "# Import necessary libraries\n",
        "import pandas as pd\n",
        "import seaborn as sns\n",
        "import matplotlib.pyplot as plt\n",
        "\n",
        "# Load the data\n",
        "cars = pd.read_csv(\"cars.csv\")\n",
        "# checking process\n",
        "cars[\"engine_type\"] = cars[\"engine_type\"].astype(\"category\")\n",
        "print(cars[\"engine_type\"].cat.categories)\n",
        "# create new_cat variable for new metadata\n",
        "new_cat = [\"hybrid\"]\n",
        "# add new metadata\n",
        "new_cat = [cat for cat in new_cat if cat not in cars[\"engine_type\"].cat.categories]\n",
        "cars[\"engine_type\"] = cars[\"engine_type\"].cat.add_categories(new_cat)\n",
        "# Check frequency counts one more time\n",
        "print(cars[\"engine_type\"].value_counts(dropna=False))"
      ],
      "metadata": {
        "colab": {
          "base_uri": "https://localhost:8080/"
        },
        "id": "ZCl68P_yA5pt",
        "outputId": "563fa64a-7dd2-41da-ae23-49d8d1f4d759"
      },
      "execution_count": 5,
      "outputs": [
        {
          "output_type": "stream",
          "name": "stdout",
          "text": [
            "Index(['diesel', 'electric', 'gasoline'], dtype='object')\n",
            "engine_type\n",
            "gasoline    25647\n",
            "diesel      12874\n",
            "electric       10\n",
            "hybrid          0\n",
            "Name: count, dtype: int64\n"
          ]
        }
      ]
    },
    {
      "cell_type": "code",
      "source": [
        "# Import necessary libraries\n",
        "import pandas as pd\n",
        "import seaborn as sns\n",
        "import matplotlib.pyplot as plt\n",
        "\n",
        "# Load the data\n",
        "cars = pd.read_csv(\"cars.csv\")\n",
        "\n",
        "# Set the style and font scale\n",
        "sns.set(font_scale=0.7)\n",
        "sns.set_style(\"darkgrid\")\n",
        "\n",
        "# Create a figure with a larger size\n",
        "plt.figure(figsize=(20, 14))  # width, height in inches\n",
        "\n",
        "# Create a bar plot of \"odometer_value\" by \"manufacturer_name\"\n",
        "sns.catplot(x=\"transmission\", y=\"odometer_value\", data=cars, kind=\"bar\")\n",
        "\n",
        "# Show the plot\n",
        "plt.tight_layout()  # Ensure labels fit within the figure\n",
        "plt.show()"
      ],
      "metadata": {
        "colab": {
          "base_uri": "https://localhost:8080/",
          "height": 529
        },
        "id": "Jy96LqP_tK_I",
        "outputId": "708213e8-0210-4d72-98cd-0a72c7ec0159"
      },
      "execution_count": null,
      "outputs": [
        {
          "output_type": "display_data",
          "data": {
            "text/plain": [
              "<Figure size 2000x1400 with 0 Axes>"
            ]
          },
          "metadata": {}
        },
        {
          "output_type": "display_data",
          "data": {
            "text/plain": [
              "<Figure size 508.556x500 with 1 Axes>"
            ],
            "image/png": "[encoded data removed]"
          },
          "metadata": {}
        }
      ]
    },
    {
      "cell_type": "code",
      "source": [
        "# Import necessary libraries\n",
        "import pandas as pd\n",
        "import seaborn as sns\n",
        "import matplotlib.pyplot as plt\n",
        "\n",
        "# Load the data\n",
        "cars = pd.read_csv(\"cars.csv\")\n",
        "# Set the font size to 1.25\n",
        "sns.set(font_scale=0.7)\n",
        "# Set the background to \"darkgrid\"\n",
        "sns.set_style(\"darkgrid\")\n",
        "# Create a boxplot\n",
        "sns.catplot(x=\"transmission\", y=\"odometer_value\", data=cars, kind=\"box\")\n",
        "plt.show()"
      ],
      "metadata": {
        "colab": {
          "base_uri": "https://localhost:8080/",
          "height": 511
        },
        "id": "CQ750iM4XuJd",
        "outputId": "889f2915-1af8-48d1-c8f0-c47917a50695"
      },
      "execution_count": null,
      "outputs": [
        {
          "output_type": "display_data",
          "data": {
            "text/plain": [
              "<Figure size 508.556x500 with 1 Axes>"
            ],
            "image/png": "[encoded data removed]"
          },
          "metadata": {}
        }
      ]
    },
    {
      "cell_type": "code",
      "source": [],
      "metadata": {
        "id": "xAXa8Qr_c8m_"
      },
      "execution_count": null,
      "outputs": []
    }
  ]
}