{
  "nbformat": 4,
  "nbformat_minor": 0,
  "metadata": {
    "colab": {
      "provenance": []
    },
    "kernelspec": {
      "name": "python3",
      "display_name": "Python 3"
    },
    "language_info": {
      "name": "python"
    }
  },
  "cells": [
    {
      "cell_type": "markdown",
      "source": [
        "**Basic Concept of String Manipulation**"
      ],
      "metadata": {
        "id": "J6t5PV2eVmHz"
      }
    },
    {
      "cell_type": "code",
      "execution_count": null,
      "metadata": {
        "id": "pKyW_0rF5ZZs",
        "colab": {
          "base_uri": "https://localhost:8080/"
        },
        "outputId": "1a7a57fe-59a7-41e4-bc8c-eaf8678bc730"
      },
      "outputs": [
        {
          "output_type": "stream",
          "name": "stdout",
          "text": [
            "Hello World\n"
          ]
        }
      ],
      "source": [
        "string1 = \"Hello\"\n",
        "string2 = \"World\"\n",
        "result = string1 + \" \" + string2  # \"Hello World\"\n",
        "print(result)"
      ]
    },
    {
      "cell_type": "code",
      "source": [
        "string = \"Python\"\n",
        "first_char = string[0]  # 'P'\n",
        "last_char = string[-1]  # 'n'\n",
        "print(first_char)\n",
        "print(last_char)"
      ],
      "metadata": {
        "colab": {
          "base_uri": "https://localhost:8080/"
        },
        "id": "jAfRu0J4_QGd",
        "outputId": "ebe077d0-fdc6-4843-c12a-f0598d05d744"
      },
      "execution_count": null,
      "outputs": [
        {
          "output_type": "stream",
          "name": "stdout",
          "text": [
            "P\n",
            "n\n"
          ]
        }
      ]
    },
    {
      "cell_type": "code",
      "source": [
        "substring = string[0:3]  # 'Pyt'"
      ],
      "metadata": {
        "id": "8ds7i16w_SZd"
      },
      "execution_count": null,
      "outputs": []
    },
    {
      "cell_type": "code",
      "source": [
        "reversed_string = string[::-1]  # 'nohtyP'"
      ],
      "metadata": {
        "id": "slC7ZKKN_nfY"
      },
      "execution_count": null,
      "outputs": []
    },
    {
      "cell_type": "code",
      "source": [
        "movie = \"fox and kelley soon become bitter rivals\"\n",
        "\n",
        "# Find characters in movie variable\n",
        "length_string = len(movie)\n",
        "\n",
        "# Convert to string\n",
        "to_string = str(length_string)\n",
        "\n",
        "# Predefined variable\n",
        "statement = \"Number of characters in this review:\"\n",
        "\n",
        "# Concatenate strings and print result\n",
        "print(statement + \" \" + to_string)"
      ],
      "metadata": {
        "colab": {
          "base_uri": "https://localhost:8080/"
        },
        "id": "SPVr-bqcd-vM",
        "outputId": "93a50caa-585c-488c-cb19-077e71f04275"
      },
      "execution_count": null,
      "outputs": [
        {
          "output_type": "stream",
          "name": "stdout",
          "text": [
            "Number of characters in this review: 40\n"
          ]
        }
      ]
    },
    {
      "cell_type": "code",
      "source": [
        "movie1 = \"fox and kelley\"\n",
        "movie2 = \"soon become\"\n",
        "movie3 = \"bitter rivals\"\n",
        "\n",
        "# Select the first 32 characters of movie1\n",
        "first_part = movie1[:4]\n",
        "\n",
        "# Select from 43rd character to the end of movie1\n",
        "last_part = movie3[6:]\n",
        "\n",
        "# Select from 33rd to the 42nd character\n",
        "middle_part = movie2\n",
        "\n",
        "# Print concatenation and movie2 variable\n",
        "print(first_part+middle_part+last_part)\n",
        "print(movie1)"
      ],
      "metadata": {
        "colab": {
          "base_uri": "https://localhost:8080/"
        },
        "id": "VWILXJ6noAdz",
        "outputId": "77c2da1c-41e0-4431-b43b-c6de076b11db"
      },
      "execution_count": null,
      "outputs": [
        {
          "output_type": "stream",
          "name": "stdout",
          "text": [
            "fox soon become rivals\n",
            "fox and kelley\n"
          ]
        }
      ]
    },
    {
      "cell_type": "code",
      "source": [
        "movie1 = \"Never odd or even.\"\n",
        "\n",
        "# Get the word\n",
        "movie_title = movie1\n",
        "\n",
        "# Obtain the palindrome\n",
        "palindrome = movie_title[::-1]\n",
        "\n",
        "# Print the word if it's a palindrome\n",
        "if movie_title == palindrome:\n",
        "\tprint(movie_title)\n",
        "else:\n",
        "    print(\"Not a palindrome\")"
      ],
      "metadata": {
        "colab": {
          "base_uri": "https://localhost:8080/"
        },
        "id": "kHs87TWgoBYZ",
        "outputId": "8dd9e74a-9fe7-4cb0-f7e2-aa9a250cfba2"
      },
      "execution_count": null,
      "outputs": [
        {
          "output_type": "stream",
          "name": "stdout",
          "text": [
            "Not a palindrome\n"
          ]
        }
      ]
    },
    {
      "cell_type": "code",
      "source": [
        "movie = \"$Never odd or even.$\"\n",
        "\n",
        "# Convert to lowercase and print the result\n",
        "movie_lower = movie.lower()\n",
        "print(movie_lower)\n",
        "\n",
        "# Remove specified character and print the result\n",
        "movie_no_sign = movie_lower.strip(\"$\")\n",
        "print(movie_no_sign)\n",
        "\n",
        "# Split the string into substrings and print the result\n",
        "movie_split = movie_no_sign.split()\n",
        "print(movie_split)\n",
        "\n",
        "# Select root word and print the result\n",
        "word_root = movie_split[1][:-1]\n",
        "print(word_root)"
      ],
      "metadata": {
        "colab": {
          "base_uri": "https://localhost:8080/"
        },
        "id": "L9Z7OMIIoB8N",
        "outputId": "2e1469f2-76a8-47a9-d3ec-c90e819ba727"
      },
      "execution_count": null,
      "outputs": [
        {
          "output_type": "stream",
          "name": "stdout",
          "text": [
            "$never odd or even.$\n",
            "never odd or even.\n",
            "['never', 'odd', 'or', 'even.']\n",
            "od\n"
          ]
        }
      ]
    },
    {
      "cell_type": "code",
      "source": [
        "movie2 = \"<Never odd or even>\"\n",
        "\n",
        "# Remove tags happening at the end and print results\n",
        "movie_tag = movie2.rstrip(\"<\\i>\")\n",
        "print(movie_tag)\n",
        "\n",
        "#remove tags happenign at the beginning and the end\n",
        "movie_tag = movie2.strip(\"<\\i>\")\n",
        "print(movie_tag)\n",
        "\n",
        "# Split the string using commas and print results\n",
        "movie_no_comma = movie_tag.split(sep=\" \", maxsplit=1)\n",
        "print(movie_no_comma)\n",
        "\n",
        "# Join back together and print results\n",
        "movie_join = \" \".join(movie_no_comma)\n",
        "print(movie_join)"
      ],
      "metadata": {
        "colab": {
          "base_uri": "https://localhost:8080/"
        },
        "id": "mbrJ3tb8vVsX",
        "outputId": "00616192-3032-435a-e08a-c351b95a10a4"
      },
      "execution_count": null,
      "outputs": [
        {
          "output_type": "stream",
          "name": "stdout",
          "text": [
            "<Never odd or even\n",
            "Never odd or even\n",
            "['Never', 'odd or even']\n",
            "Never odd or even\n"
          ]
        }
      ]
    },
    {
      "cell_type": "code",
      "source": [
        "movie2 = \"<Never odd\\n or even>\"\n",
        "\n",
        "# Split string at line boundaries\n",
        "movie_split = movie2.splitlines()\n",
        "\n",
        "# Print movie_split\n",
        "print(movie_split)\n",
        "\n",
        "# Split string at the other row\n",
        "movie_split1 = \"<Never odd\\n or even>\"\n",
        "\n",
        "# print movie_split1\n",
        "print(movie_split1)"
      ],
      "metadata": {
        "colab": {
          "base_uri": "https://localhost:8080/"
        },
        "id": "70c8uuGh06Q1",
        "outputId": "ea77a68e-1723-4861-e957-14079c4443f2"
      },
      "execution_count": null,
      "outputs": [
        {
          "output_type": "stream",
          "name": "stdout",
          "text": [
            "['<Never odd', ' or even>']\n",
            "<Never odd\n",
            " or even>\n"
          ]
        }
      ]
    },
    {
      "cell_type": "code",
      "source": [
        "movie2 = \"<Never odd\\n or even>\"\n",
        "# Replace negations\n",
        "movies_no_negation = movie2.replace(\"odd\", \"weird\")\n",
        "\n",
        "# Replace important\n",
        "movies_antonym = movie2.replace(\"Never\", \"ever\")\n",
        "\n",
        "# Print out\n",
        "print(movies_no_negation)\n",
        "\n",
        "print(movies_antonym)"
      ],
      "metadata": {
        "colab": {
          "base_uri": "https://localhost:8080/"
        },
        "id": "mBchyvrW1xYZ",
        "outputId": "07067278-72db-4d20-963e-1f1f85a475f0"
      },
      "execution_count": null,
      "outputs": [
        {
          "output_type": "stream",
          "name": "stdout",
          "text": [
            "<Never weird\n",
            " or even>\n",
            "<ever odd\n",
            " or even>\n"
          ]
        }
      ]
    },
    {
      "cell_type": "markdown",
      "source": [
        "**Formatting Strings**"
      ],
      "metadata": {
        "id": "TL1ubwOA4lvg"
      }
    },
    {
      "cell_type": "code",
      "source": [
        "wikipedia_article = \"Artificial intelligence and neural networks\"\n",
        "\n",
        "# Assign the substrings to the variables\n",
        "first_pos = wikipedia_article[3:19].lower()\n",
        "second_pos = wikipedia_article[21:44].lower()\n",
        "\n",
        "# Define string with placeholders\n",
        "my_list.append(\"The tool {} is used in {}\")\n",
        "\n",
        "# Define string with rearranged placeholders\n",
        "my_list.append(\"The tool {1} is used in {0}\")\n",
        "\n",
        "# Use format to print strings\n",
        "for my_string in my_list:\n",
        "  \tprint(my_string.format(first_pos, second_pos))"
      ],
      "metadata": {
        "colab": {
          "base_uri": "https://localhost:8080/",
          "height": 220
        },
        "id": "dSro9GS4zMKe",
        "outputId": "ab8ce74c-4664-4061-c438-443a26983b2f"
      },
      "execution_count": null,
      "outputs": [
        {
          "output_type": "error",
          "ename": "NameError",
          "evalue": "name 'my_list' is not defined",
          "traceback": [
            "\u001b[0;31m---------------------------------------------------------------------------\u001b[0m",
            "\u001b[0;31mNameError\u001b[0m                                 Traceback (most recent call last)",
            "\u001b[0;32m<ipython-input-5-38850614ff80>\u001b[0m in \u001b[0;36m<cell line: 8>\u001b[0;34m()\u001b[0m\n\u001b[1;32m      6\u001b[0m \u001b[0;34m\u001b[0m\u001b[0m\n\u001b[1;32m      7\u001b[0m \u001b[0;31m# Define string with placeholders\u001b[0m\u001b[0;34m\u001b[0m\u001b[0;34m\u001b[0m\u001b[0m\n\u001b[0;32m----> 8\u001b[0;31m \u001b[0mmy_list\u001b[0m\u001b[0;34m.\u001b[0m\u001b[0mappend\u001b[0m\u001b[0;34m(\u001b[0m\u001b[0;34m\"The tool {} is used in {}\"\u001b[0m\u001b[0;34m)\u001b[0m\u001b[0;34m\u001b[0m\u001b[0;34m\u001b[0m\u001b[0m\n\u001b[0m\u001b[1;32m      9\u001b[0m \u001b[0;34m\u001b[0m\u001b[0m\n\u001b[1;32m     10\u001b[0m \u001b[0;31m# Define string with rearranged placeholders\u001b[0m\u001b[0;34m\u001b[0m\u001b[0;34m\u001b[0m\u001b[0m\n",
            "\u001b[0;31mNameError\u001b[0m: name 'my_list' is not defined"
          ]
        }
      ]
    },
    {
      "cell_type": "code",
      "source": [
        "courses = [\"artificial intelligence\", \"neural networks\"]\n",
        "\n",
        "# Create a dictionary\n",
        "plan = {\n",
        "  \t\t\"field\": courses[0],\n",
        "        \"tool\": courses[1]\n",
        "        }\n",
        "\n",
        "# Complete the placeholders accessing elements of field and tool keys in the data dictionary\n",
        "my_message = \"If you are interested in {plan[field]}, you can take the course related to {plan[tool]}\"\n",
        "\n",
        "# Use the plan dictionary to replace placeholders\n",
        "print(\"If you are interested in {data[field]}, you can take the course related to {data[tool]}\".format(data=plan))"
      ],
      "metadata": {
        "colab": {
          "base_uri": "https://localhost:8080/"
        },
        "id": "ELIrcph6y8rk",
        "outputId": "c9a01f00-23c0-4477-e17f-ac2fbbad1527"
      },
      "execution_count": null,
      "outputs": [
        {
          "output_type": "stream",
          "name": "stdout",
          "text": [
            "If you are interested in artificial intelligence, you can take the course related to neural networks\n"
          ]
        }
      ]
    },
    {
      "cell_type": "code",
      "source": [
        "# Import datetime\n",
        "from datetime import datetime\n",
        "\n",
        "# Assign date to get_date\n",
        "get_date = datetime.now()\n",
        "\n",
        "# Add named placeholders with format specifiers\n",
        "message = \"Good morning. Today is {today:%B %d, %Y}. It's {today:%H:%M} ... time to work!\"\n",
        "\n",
        "# Use the format method replacing the placeholder with get_date\n",
        "print(message.format(today=get_date))"
      ],
      "metadata": {
        "colab": {
          "base_uri": "https://localhost:8080/"
        },
        "id": "Xxdth7Hly9JE",
        "outputId": "5e9578d4-5459-44c5-e8ef-b586ab126a88"
      },
      "execution_count": null,
      "outputs": [
        {
          "output_type": "stream",
          "name": "stdout",
          "text": [
            "Good morning. Today is October 02, 2024. It's 15:14 ... time to work!\n"
          ]
        }
      ]
    },
    {
      "cell_type": "code",
      "source": [
        "#formatted string litteral\n",
        "import pandas as pd\n",
        "\n",
        "family = {\"dad\":\"John\", \"sibling\":\"Peter\"}\n",
        "print(\"is your dad called {family[dad]}?\".format(family=family))\n",
        "print(\"is your brother called {family[sibling]}?\".format(family=family))"
      ],
      "metadata": {
        "id": "GZBRUbOMtbi0",
        "colab": {
          "base_uri": "https://localhost:8080/"
        },
        "outputId": "091a1b3f-a9df-46ea-e139-50822668a157"
      },
      "execution_count": null,
      "outputs": [
        {
          "output_type": "stream",
          "name": "stdout",
          "text": [
            "is your dad called John?\n",
            "is your brother called Peter?\n"
          ]
        }
      ]
    },
    {
      "cell_type": "code",
      "source": [
        "#formatted string litteral\n",
        "# Complete the f-string\n",
        "import pandas as pd\n",
        "\n",
        "field1 = \"famous job\"\n",
        "fact1 = 21\n",
        "print(f\"Data science is considered {field1 !r} in the {fact1 !a}st century\")"
      ],
      "metadata": {
        "colab": {
          "base_uri": "https://localhost:8080/"
        },
        "id": "ux53fshLAMXV",
        "outputId": "edfffb51-9db1-4c95-c308-65e907151513"
      },
      "execution_count": null,
      "outputs": [
        {
          "output_type": "stream",
          "name": "stdout",
          "text": [
            "Data science is considered 'famous job' in the 21st century\n"
          ]
        }
      ]
    },
    {
      "cell_type": "code",
      "source": [
        "#formatted string litteral\n",
        "# Complete the f-string\n",
        "field3 = \"Individuals\"\n",
        "fact3 = 72.438134\n",
        "fact4 = 1.099999\n",
        "\n",
        "print(f\"{field3} create around {fact3:.2f}% of the data but only {fact4:.1f}% is analyzed\")"
      ],
      "metadata": {
        "colab": {
          "base_uri": "https://localhost:8080/"
        },
        "id": "FE0KDYqeBLw4",
        "outputId": "c2962cb4-efa4-4f47-948a-a6dcd7adaa9b"
      },
      "execution_count": null,
      "outputs": [
        {
          "output_type": "stream",
          "name": "stdout",
          "text": [
            "Individuals create around 72.44% of the data but only 1.1% is analyzed\n"
          ]
        }
      ]
    },
    {
      "cell_type": "code",
      "source": [
        "#formatted string litteral\n",
        "# Include both variables and the result of dividing them\n",
        "number1 = 120\n",
        "number2 = 7\n",
        "print(f\"{number1} tweets were downloaded in {number2} minutes indicating a speed of {number1/number2:.1f} tweets per min\")\n",
        "\n"
      ],
      "metadata": {
        "colab": {
          "base_uri": "https://localhost:8080/"
        },
        "id": "llxGDUPlJOX7",
        "outputId": "d1cdd1b5-adb6-4a5a-bcb7-70ccbcfe7c0d"
      },
      "execution_count": null,
      "outputs": [
        {
          "output_type": "stream",
          "name": "stdout",
          "text": [
            "120 tweets were downloaded in 7 minutes indicating a speed of 17.1 tweets per min\n"
          ]
        }
      ]
    },
    {
      "cell_type": "code",
      "source": [
        "#formatted string litteral\n",
        "# Access values of date and price in east dictionary\n",
        "east = {\"price\":12345, \"date\": \"10-22-2024\"}\n",
        "output = f'The price is ${east[\"price\"]} and the date is {east[\"date\"]}.'\n",
        "print(output)"
      ],
      "metadata": {
        "colab": {
          "base_uri": "https://localhost:8080/"
        },
        "id": "IAxgTw1fYAWh",
        "outputId": "6ee7fd9a-c9d9-454a-aef9-54b1e99c4696"
      },
      "execution_count": null,
      "outputs": [
        {
          "output_type": "stream",
          "name": "stdout",
          "text": [
            "The price is $12345 and the date is 10-22-2024.\n"
          ]
        }
      ]
    },
    {
      "cell_type": "code",
      "source": [
        "#Template method\n",
        "from string import Template\n",
        "\n",
        "tool1 = \"wikipedia\"\n",
        "description1 =\"website\"\n",
        "# Create a template\n",
        "wikipedia = Template(\"$tool is a $description\")\n",
        "\n",
        "# Substitute variables in template\n",
        "print(wikipedia.substitute(tool=tool1, description=description1))"
      ],
      "metadata": {
        "colab": {
          "base_uri": "https://localhost:8080/"
        },
        "id": "sH8nQoWUeixl",
        "outputId": "91aa2fa8-5318-4e96-a58a-6b621cde62e1"
      },
      "execution_count": null,
      "outputs": [
        {
          "output_type": "stream",
          "name": "stdout",
          "text": [
            "wikipedia is a website\n"
          ]
        }
      ]
    },
    {
      "cell_type": "code",
      "source": [
        "#Template method\n",
        "from string import Template\n",
        "\n",
        "tools = [\"tool_name\", \"fee\", \"payment\"]\n",
        "\n",
        "# Select variables\n",
        "our_tool = tools[0]\n",
        "our_fee = tools[1]\n",
        "our_pay = tools[2]\n",
        "\n",
        "# Create template\n",
        "course = Template(\"We are offering a 3-month beginner course on $tool just for $$ $fee ${pay}ly\")\n",
        "\n",
        "# Substitute identifiers with three variables\n",
        "print(course.substitute(tool=our_tool, fee=our_fee, pay=our_pay))"
      ],
      "metadata": {
        "colab": {
          "base_uri": "https://localhost:8080/"
        },
        "id": "jaRFtneth6sY",
        "outputId": "ebcc5d3c-04ea-4bbd-a5ee-c4063cfcda63"
      },
      "execution_count": null,
      "outputs": [
        {
          "output_type": "stream",
          "name": "stdout",
          "text": [
            "We are offering a 3-month beginner course on tool_name just for $ fee paymently\n"
          ]
        }
      ]
    },
    {
      "cell_type": "code",
      "source": [
        "#Template method\n",
        "# playing safe\n",
        "from string import Template\n",
        "\n",
        "answers = {}\n",
        "\n",
        "# Complete template string using identifiers\n",
        "the_answers = Template(\"Check your answer 1: $answer1, and your answer 2: $answer2\")\n",
        "\n",
        "# Use substitute to replace identifiers\n",
        "try:\n",
        "    print(the_answers.substitute(answers))\n",
        "except KeyError:\n",
        "    print(\"Missing information\")"
      ],
      "metadata": {
        "colab": {
          "base_uri": "https://localhost:8080/"
        },
        "id": "8kejc5zlNro0",
        "outputId": "745bf2ed-7a12-4d05-9458-53752dbb4d52"
      },
      "execution_count": null,
      "outputs": [
        {
          "output_type": "stream",
          "name": "stdout",
          "text": [
            "Missing information\n"
          ]
        }
      ]
    },
    {
      "cell_type": "code",
      "source": [
        "#Template method\n",
        "# playing safe\n",
        "from string import Template\n",
        "\n",
        "answers = {}\n",
        "\n",
        "# Complete template string using identifiers\n",
        "the_answers = Template(\"Check your answer 1: $answer1, and your answer 2: $answer2\")\n",
        "\n",
        "# Use safe_substitute to replace identifiers\n",
        "try:\n",
        "    print(the_answers.safe_substitute(answers))\n",
        "except KeyError:\n",
        "    print(\"Missing information\")"
      ],
      "metadata": {
        "colab": {
          "base_uri": "https://localhost:8080/"
        },
        "id": "HCwhMPUQPWw_",
        "outputId": "b545cd24-e4f7-4f1e-9c15-d8997227bd06"
      },
      "execution_count": null,
      "outputs": [
        {
          "output_type": "stream",
          "name": "stdout",
          "text": [
            "Check your answer 1: $answer1, and your answer 2: $answer2\n"
          ]
        }
      ]
    },
    {
      "cell_type": "markdown",
      "source": [
        "**Regular Expressions for Pattern Matching**"
      ],
      "metadata": {
        "id": "8X5L1PgNC6NL"
      }
    },
    {
      "cell_type": "code",
      "source": [
        "# Write and run code here\n",
        "import re\n",
        "\n",
        "#set main variable\n",
        "sentiment_analysis = \"@robot9! @robot4& I have a good feeling that the show isgoing to be amazing! @robot9$ @robot7%\"\n",
        "\n",
        "# Write the regex\n",
        "regex = r\"@robot\\d\\W\"\n",
        "\n",
        "# Find all matches of regex\n",
        "print(re.findall(regex, sentiment_analysis))\n",
        "\n",
        "print(sentiment_analysis)"
      ],
      "metadata": {
        "colab": {
          "base_uri": "https://localhost:8080/"
        },
        "id": "xFFirPFBJlKX",
        "outputId": "549e86d1-6f1b-44f8-c972-b26904a61937"
      },
      "execution_count": 1,
      "outputs": [
        {
          "output_type": "stream",
          "name": "stdout",
          "text": [
            "['@robot9!', '@robot4&', '@robot9$', '@robot7%']\n",
            "@robot9! @robot4& I have a good feeling that the show isgoing to be amazing! @robot9$ @robot7%\n"
          ]
        }
      ]
    },
    {
      "cell_type": "code",
      "source": [
        "#RegEx for pattern matching\n",
        "# import re module\n",
        "import re\n",
        "\n",
        "sentiment_analysis = \"Unfortunately one of those moments wasn't a giant squid monster. User_mentions:2, likes: 9, number of retweets: 7\"\n",
        "# Write a regex to obtain user mentions\n",
        "print(re.findall(r\"User_mentions:\\d\", sentiment_analysis))\n",
        "print(re.findall(r\"likes:\\s\\d\", sentiment_analysis))"
      ],
      "metadata": {
        "colab": {
          "base_uri": "https://localhost:8080/"
        },
        "id": "bwV_v6r0KVPA",
        "outputId": "038544e0-ed5a-4bd7-86ab-1903d2d3c9a7"
      },
      "execution_count": null,
      "outputs": [
        {
          "output_type": "stream",
          "name": "stdout",
          "text": [
            "['User_mentions:2']\n",
            "['likes: 9']\n"
          ]
        }
      ]
    },
    {
      "cell_type": "code",
      "source": [
        "#RegEx repetition\n",
        "# import re module\n",
        "import re\n",
        "\n",
        "tweet = \"@adityasan01\"\n",
        "print(re.findall(r\"^@\\w.+\", tweet))"
      ],
      "metadata": {
        "id": "59w95xfWK2tP",
        "colab": {
          "base_uri": "https://localhost:8080/"
        },
        "outputId": "07a30ca7-c3ee-4de1-e3e0-b6726d94f900"
      },
      "execution_count": null,
      "outputs": [
        {
          "output_type": "stream",
          "name": "stdout",
          "text": [
            "['@adityasan01']\n"
          ]
        }
      ]
    },
    {
      "cell_type": "code",
      "source": [
        "# Write a regex matching the hashtag pattern\n",
        "import re\n",
        "\n",
        "sentiment_analysis = \"ITS NOT ENOUGH TO SAY THAT IMISS U #MissYou #SoMuch #Friendship #Forever\"\n",
        "regex = r\"#\\w+\"\n",
        "\n",
        "# Replace the regex by an empty string\n",
        "no_hashtag = re.sub(regex, \"\", sentiment_analysis)\n",
        "\n",
        "# Get tokens by splitting text\n",
        "print(re.split(r\"\\s+\", no_hashtag))"
      ],
      "metadata": {
        "id": "Z-d1k_1yDoxV",
        "colab": {
          "base_uri": "https://localhost:8080/"
        },
        "outputId": "09baefc5-452a-416f-ad60-1a6c8989d22e"
      },
      "execution_count": null,
      "outputs": [
        {
          "output_type": "stream",
          "name": "stdout",
          "text": [
            "['ITS', 'NOT', 'ENOUGH', 'TO', 'SAY', 'THAT', 'IMISS', 'U', '']\n"
          ]
        }
      ]
    },
    {
      "cell_type": "code",
      "source": [
        "# regex metacharacters\n",
        "import re\n",
        "\n",
        "#assign the message\n",
        "txt = \"t#@0_^r!@#^t$u^%r%*&^3&*d_?\"\n",
        "\n",
        "#print the result\n",
        "print(re.sub(r\"[!@#$_%^&*?]\", \" \", txt))"
      ],
      "metadata": {
        "colab": {
          "base_uri": "https://localhost:8080/"
        },
        "id": "P8HnC-FJnIoF",
        "outputId": "577d9ca3-1c09-459f-9842-ae5f79ab79ec"
      },
      "execution_count": null,
      "outputs": [
        {
          "output_type": "stream",
          "name": "stdout",
          "text": [
            "t  0  r    t u  r    3  d  \n"
          ]
        }
      ]
    },
    {
      "cell_type": "code",
      "source": [
        "# Import re module\n",
        "import re\n",
        "\n",
        "# Assuming sentiment_analysis is a list of tweets\n",
        "sentiment_analysis = [\"Boredd. Colddd @blueKnight39 Internet keeps st... I had a horrible nightmare last night @anitaLo...im lonely keep me company @YourBestCompany! http://example.com\",\n",
        "    \"Check this out! https://www.example.com @user1\",\n",
        "    \"No links here, just a mention @user2\"]\n",
        "\n",
        "\n",
        "for tweet in sentiment_analysis:\n",
        "    # Write regex to match http links and print out result\n",
        "    print(re.findall(r\"http\\S+\", tweet))\n",
        "\n",
        "    # Write regex to match user mentions and print out result\n",
        "    print(re.findall(r\"@\\w+\", tweet))"
      ],
      "metadata": {
        "id": "fgIrgntteiqz",
        "colab": {
          "base_uri": "https://localhost:8080/"
        },
        "outputId": "24e37fee-a8c5-47eb-f5e3-9cb5ebac4bcd"
      },
      "execution_count": 2,
      "outputs": [
        {
          "output_type": "stream",
          "name": "stdout",
          "text": [
            "['http://example.com']\n",
            "['@blueKnight39', '@anitaLo', '@YourBestCompany']\n",
            "['https://www.example.com']\n",
            "['@user1']\n",
            "[]\n",
            "['@user2']\n"
          ]
        }
      ]
    },
    {
      "cell_type": "code",
      "source": [
        "# Import re module\n",
        "import re\n",
        "\n",
        "date = \"23rd June 2018 17:54\"\n",
        "\n",
        "sentiment_analysis = \"So much for seniority, bc of technological ineptness 23rd June 2018 17:54 I would like to apologize for the repeated Vid... @zaydia but I can't figure out how to get there... So much for seniority, bc of technologica...\"\n",
        "\n",
        "# Complete the for loop with a regex to find dates\n",
        "# We don't actually need a for loop here since we are looking for a date in a single string\n",
        "# We can directly use re.findall on sentiment_analysis\n",
        "found_dates = re.findall(r\"\\d{1,2}\\w+\\s\\w+\\s\\d{4}\\s\\d{1,2}:\\d{2}\", sentiment_analysis)\n",
        "\n",
        "# Print the found dates\n",
        "print(found_dates)"
      ],
      "metadata": {
        "colab": {
          "base_uri": "https://localhost:8080/"
        },
        "id": "h57uneMcD4Gx",
        "outputId": "84a26b77-88f7-4407-b081-f1d47699c41b"
      },
      "execution_count": 3,
      "outputs": [
        {
          "output_type": "stream",
          "name": "stdout",
          "text": [
            "['23rd June 2018 17:54']\n"
          ]
        }
      ]
    },
    {
      "cell_type": "code",
      "source": [
        "# Import re module\n",
        "import re\n",
        "\n",
        "#dataset\n",
        "example = \"adityasan01@gmail.com\"\n",
        "emails = [\"n.john.smith@gmail.com\", \"87victory@hotmail.com\", \"!#mary-=@msca.net\"]\n",
        "\n",
        "# Write a regex to match a valid email address\n",
        "regex = r\"[a-zA-Z0-9!#%&*\\$\\.]+@\\w+\\.com\"\n",
        "\n",
        "for example in emails:\n",
        "  \t# Match the regex to the string\n",
        "    if re.match(regex, example):\n",
        "        # Complete the format method to print out the result\n",
        "      \tprint(\"The email {email_example} is a valid email\".format(email_example=example))\n",
        "    else:\n",
        "      \tprint(\"The email {email_example} is invalid\".format(email_example=example))"
      ],
      "metadata": {
        "colab": {
          "base_uri": "https://localhost:8080/"
        },
        "id": "zehWPkhAD3yl",
        "outputId": "74f436ca-691c-4006-ab05-3bd87005d20f"
      },
      "execution_count": 4,
      "outputs": [
        {
          "output_type": "stream",
          "name": "stdout",
          "text": [
            "The email n.john.smith@gmail.com is a valid email\n",
            "The email 87victory@hotmail.com is a valid email\n",
            "The email !#mary-=@msca.net is invalid\n"
          ]
        }
      ]
    },
    {
      "cell_type": "code",
      "source": [
        "# Import re\n",
        "import re\n",
        "\n",
        "string = \"<p>the wind was so strong </p>\"\n",
        "\n",
        "# Write a regex to eliminate tags\n",
        "string_notags = re.sub(r\"<.+?>\", \"\", string)\n",
        "\n",
        "# Print out the result\n",
        "print(string_notags)"
      ],
      "metadata": {
        "colab": {
          "base_uri": "https://localhost:8080/"
        },
        "id": "4h065QYfD3Zu",
        "outputId": "09c55168-b15d-426e-9fd8-888b079f3aed"
      },
      "execution_count": 5,
      "outputs": [
        {
          "output_type": "stream",
          "name": "stdout",
          "text": [
            "the wind was so strong \n"
          ]
        }
      ]
    },
    {
      "cell_type": "code",
      "source": [
        "# Import re\n",
        "import re\n",
        "\n",
        "sentiment_analysis = \"Was intending to finish editing my 536-page novel manuscript tonight, but that will probably not happen. And only 12 pages are left\"\n",
        "\n",
        "# Write a lazy regex expression\n",
        "numbers_found_lazy = re.findall(r\"[0-9]/d+?\", sentiment_analysis)\n",
        "\n",
        "# Write a greedy regex expression\n",
        "numbers_found_greedy = re.findall(r\"\\d+\", sentiment_analysis)\n",
        "\n",
        "print(numbers_found_greedy)\n",
        "print(numbers_found_lazy)"
      ],
      "metadata": {
        "id": "s8UomUGqEQma"
      },
      "execution_count": null,
      "outputs": []
    },
    {
      "cell_type": "markdown",
      "source": [
        "**Advanced Regular Expression**"
      ],
      "metadata": {
        "id": "yQ48Q9Z1EZNN"
      }
    },
    {
      "cell_type": "code",
      "source": [
        "# Import re\n",
        "import re\n",
        "\n",
        "# Define a list of tweets\n",
        "sentiment_analysis = [\n",
        "    \"Just got ur newsletter, those fares really are unbelievable. Write to statravelAU@gmail.com or statravelpo@hotmail.com.\",\n",
        "    \"They have amazing prices.\",\n",
        "    \"I should have paid more attention when we covered photoshop in my webpage design class in undergrad. Contact me Hollywoodheat34@msn.net.\",\n",
        "    \"hey missed ya at the meeting. Read your email! msdrama098@hotmail.com\"\n",
        "]\n",
        "\n",
        "# Write a regex that matches email\n",
        "regex_email = r\"([a-zA-Z0-9._%+-]+)@\\S+\"\n",
        "\n",
        "for tweet in sentiment_analysis:\n",
        "    # Find all matches of regex in each tweet\n",
        "    email_matched = re.findall(regex_email, tweet)\n",
        "\n",
        "    # Complete the format method to print the results\n",
        "    print(\"Lists of users found in this tweet: {}\".format(email_matched))"
      ],
      "metadata": {
        "colab": {
          "base_uri": "https://localhost:8080/"
        },
        "id": "ISD0ZnEMERE7",
        "outputId": "3bb9fb59-c4e4-4d63-9c06-0e590d7c1d82"
      },
      "execution_count": 6,
      "outputs": [
        {
          "output_type": "stream",
          "name": "stdout",
          "text": [
            "Lists of users found in this tweet: ['statravelAU', 'statravelpo']\n",
            "Lists of users found in this tweet: []\n",
            "Lists of users found in this tweet: ['Hollywoodheat34']\n",
            "Lists of users found in this tweet: ['msdrama098']\n"
          ]
        }
      ]
    },
    {
      "cell_type": "code",
      "source": [
        "#import re\n",
        "import re\n",
        "\n",
        "flight = \"You are now ready to fly. Here you have your boarding pass IB3723 AMS-MAD 06OCT\"\n",
        "\n",
        "# Write regex to capture information of the flight\n",
        "regex = r\"([A-Z]{2})(\\d{4})\\s([A-Z]{3})-([A-Z]{3})\\s(\\d{2}[A-Z]{3})\"\n",
        "\n",
        "# Find all matches of the flight information\n",
        "flight_matches = re.findall(regex, flight)\n",
        "\n",
        "#Print the matches\n",
        "# Print the matches\n",
        "print(\"Airline: {} Flight number: {}\".format(flight_matches[0][0], flight_matches[0][1]))\n",
        "print(\"Departure: {} Destination: {}\".format(flight_matches[0][2], flight_matches[0][3]))\n",
        "print(\"Date: {}\".format(flight_matches[0][4]))"
      ],
      "metadata": {
        "colab": {
          "base_uri": "https://localhost:8080/"
        },
        "id": "VsT8mlECERgQ",
        "outputId": "3c8a96b8-b56d-49ba-c77d-2cd77477f6b1"
      },
      "execution_count": 7,
      "outputs": [
        {
          "output_type": "stream",
          "name": "stdout",
          "text": [
            "Airline: IB Flight number: 3723\n",
            "Departure: AMS Destination: MAD\n",
            "Date: 06OCT\n"
          ]
        }
      ]
    },
    {
      "cell_type": "code",
      "source": [
        "# alternation and non-capturing groups\n",
        "# import re\n",
        "import re\n",
        "\n",
        "sentiment_analysis = \"You need excellent python skills to be a data scientist. Must be! Excellent python\"\n",
        "\n",
        "# Example of using positive lookahead\n",
        "look_ahead = re.findall(r\"\\w+(?=\\spython)\", sentiment_analysis)\n",
        "\n",
        "print(look_ahead)  # This should print the words before \"python\""
      ],
      "metadata": {
        "colab": {
          "base_uri": "https://localhost:8080/"
        },
        "id": "LQpOhLANE8A0",
        "outputId": "676e7e7c-0e99-4d21-f84f-0cc2dd448c49"
      },
      "execution_count": 8,
      "outputs": [
        {
          "output_type": "stream",
          "name": "stdout",
          "text": [
            "['excellent', 'Excellent']\n"
          ]
        }
      ]
    },
    {
      "cell_type": "code",
      "source": [
        "#import re\n",
        "import re\n",
        "\n",
        "phone = '6476-579052-01'\n",
        "cellphones = ['4564-646464-01', '345-5785-544245', '6476-579052-01']\n",
        "\n",
        "for phone in cellphones:\n",
        "    # Try using a negative lookbehind to exclude numbers with an area code\n",
        "    number = re.findall(r\"(?<!\\d{3}-)\\d{4}-\\d{6}-\\d{2}\", phone)\n",
        "    print(number)"
      ],
      "metadata": {
        "colab": {
          "base_uri": "https://localhost:8080/"
        },
        "id": "0995A2PJE8gB",
        "outputId": "21607866-2467-4a74-8f19-d3eac3100281"
      },
      "execution_count": 9,
      "outputs": [
        {
          "output_type": "stream",
          "name": "stdout",
          "text": [
            "['4564-646464-01']\n",
            "[]\n",
            "['6476-579052-01']\n"
          ]
        }
      ]
    },
    {
      "cell_type": "code",
      "source": [
        "#import re\n",
        "import re\n",
        "\n",
        "tweet = \"I love the concert experience.\"\n",
        "sentiment_analysis = ['I hate the movie Avengers a lot.', 'I dislike the concert last night.', \"I disapprove of the movie's ending.\", 'That was a great movie!', 'I love the concert experience.']\n",
        "\n",
        "# Write a regex that matches sentences with the optional words\n",
        "regex_negative = r\"(hate|dislike|disapprove).+?(?:movie|concert)\\s(.+?)\\.\"\n",
        "\n",
        "for tweet in sentiment_analysis:\n",
        "\t# Find all matches of regex in tweet\n",
        "    negative_matches = re.findall(regex_negative, tweet)\n",
        "\n",
        "    # Complete format to print out the results\n",
        "    print(\"Negative comments found {}\".format(negative_matches))"
      ],
      "metadata": {
        "colab": {
          "base_uri": "https://localhost:8080/"
        },
        "id": "DxATbNHKF3Z9",
        "outputId": "91ac0ed5-543b-4c28-ea05-023a477dfc39"
      },
      "execution_count": 10,
      "outputs": [
        {
          "output_type": "stream",
          "name": "stdout",
          "text": [
            "Negative comments found [('hate', 'Avengers a lot')]\n",
            "Negative comments found [('dislike', 'last night')]\n",
            "Negative comments found []\n",
            "Negative comments found []\n",
            "Negative comments found []\n"
          ]
        }
      ]
    }
  ]
}