{
  "nbformat": 4,
  "nbformat_minor": 0,
  "metadata": {
    "colab": {
      "provenance": []
    },
    "kernelspec": {
      "name": "python3",
      "display_name": "Python 3"
    },
    "language_info": {
      "name": "python"
    }
  },
  "cells": [
    {
      "cell_type": "code",
      "execution_count": null,
      "metadata": {
        "colab": {
          "base_uri": "https://localhost:8080/"
        },
        "id": "Z6fLBmqoN9pu",
        "outputId": "5d171133-a751-4cca-a1cc-3d9d8b595754"
      },
      "outputs": [
        {
          "output_type": "stream",
          "name": "stdout",
          "text": [
            "   Store        Date  Weekly_Sales  Holiday_Flag  Temperature  Fuel_Price  \\\n",
            "0      1  05-02-2010    1643690.90             0        42.31       2.572   \n",
            "1      1  12-02-2010    1641957.44             1        38.51       2.548   \n",
            "2      1  19-02-2010    1611968.17             0        39.93       2.514   \n",
            "3      1  26-02-2010    1409727.59             0        46.63       2.561   \n",
            "4      1  05-03-2010    1554806.68             0        46.50       2.625   \n",
            "\n",
            "          CPI  Unemployment  \n",
            "0  211.096358         8.106  \n",
            "1  211.242170         8.106  \n",
            "2  211.289143         8.106  \n",
            "3  211.319643         8.106  \n",
            "4  211.350143         8.106  \n"
          ]
        }
      ],
      "source": [
        "import pandas as pd\n",
        "import seaborn as sns\n",
        "\n",
        "walmart = pd.read_csv(\"Walmart_sales.csv\")\n",
        "print(walmart.head())"
      ]
    },
    {
      "cell_type": "code",
      "source": [
        "import pandas as pd\n",
        "import seaborn as sns\n",
        "\n",
        "walmart = pd.read_csv(\"Walmart_sales.csv\")\n",
        "walmart.columns"
      ],
      "metadata": {
        "colab": {
          "base_uri": "https://localhost:8080/"
        },
        "id": "5pPR4uQQOv0O",
        "outputId": "5b922a0b-89e1-49bd-f89e-ae210d702547"
      },
      "execution_count": null,
      "outputs": [
        {
          "output_type": "execute_result",
          "data": {
            "text/plain": [
              "Index(['Store', 'Date', 'Weekly_Sales', 'Holiday_Flag', 'Temperature',\n",
              "       'Fuel_Price', 'CPI', 'Unemployment'],\n",
              "      dtype='object')"
            ]
          },
          "metadata": {},
          "execution_count": 2
        }
      ]
    },
    {
      "cell_type": "code",
      "source": [
        "import pandas as pd\n",
        "import seaborn as sns\n",
        "\n",
        "walmart = pd.read_csv(\"Walmart_sales.csv\")\n",
        "print(walmart.dtypes)"
      ],
      "metadata": {
        "colab": {
          "base_uri": "https://localhost:8080/"
        },
        "id": "wY92h_ddO3Wt",
        "outputId": "030b9ada-9b8a-4272-d9f0-8019ad318e0f"
      },
      "execution_count": null,
      "outputs": [
        {
          "output_type": "stream",
          "name": "stdout",
          "text": [
            "Store             int64\n",
            "Date             object\n",
            "Weekly_Sales    float64\n",
            "Holiday_Flag      int64\n",
            "Temperature     float64\n",
            "Fuel_Price      float64\n",
            "CPI             float64\n",
            "Unemployment    float64\n",
            "dtype: object\n"
          ]
        }
      ]
    },
    {
      "cell_type": "code",
      "source": [
        "import pandas as pd\n",
        "import seaborn as sns\n",
        "\n",
        "walmart = pd.read_csv(\"Walmart_sales.csv\")\n",
        "#sorting values in \"fuel_price_usd_per_l\" column with ascending sort\n",
        "walmart = walmart.sort_values(\"Fuel_Price\", ascending=True)\n",
        "print(walmart.head())"
      ],
      "metadata": {
        "colab": {
          "base_uri": "https://localhost:8080/"
        },
        "id": "cJPWxwxPPDHa",
        "outputId": "f8b4a616-5d60-48ba-fa97-c69cfc2bc304"
      },
      "execution_count": null,
      "outputs": [
        {
          "output_type": "stream",
          "name": "stdout",
          "text": [
            "      Store        Date  Weekly_Sales  Holiday_Flag  Temperature  Fuel_Price  \\\n",
            "5007     36  19-02-2010     470281.03             0        45.66       2.472   \n",
            "5036     36  10-09-2010     434471.38             1        80.58       2.513   \n",
            "4149     30  19-02-2010     463513.26             0        39.75       2.514   \n",
            "5150     37  19-02-2010     510382.50             0        45.66       2.514   \n",
            "574       5  19-02-2010     303447.57             0        41.14       2.514   \n",
            "\n",
            "             CPI  Unemployment  \n",
            "5007  210.045102         8.554  \n",
            "5036  210.264116         8.360  \n",
            "4149  210.945160         8.324  \n",
            "5150  210.045102         8.554  \n",
            "574   211.847128         6.566  \n"
          ]
        }
      ]
    },
    {
      "cell_type": "code",
      "source": [
        "import pandas as pd\n",
        "import seaborn as sns\n",
        "\n",
        "walmart = pd.read_csv(\"Walmart_sales.csv\")\n",
        "fuelprice = walmart[\"Fuel_Price\"]\n",
        "print(fuelprice.head(10))"
      ],
      "metadata": {
        "colab": {
          "base_uri": "https://localhost:8080/"
        },
        "id": "wj-EenRsPdwt",
        "outputId": "2962fafd-7532-48d8-834a-0ffef196922b"
      },
      "execution_count": null,
      "outputs": [
        {
          "output_type": "stream",
          "name": "stdout",
          "text": [
            "0    2.572\n",
            "1    2.548\n",
            "2    2.514\n",
            "3    2.561\n",
            "4    2.625\n",
            "5    2.667\n",
            "6    2.720\n",
            "7    2.732\n",
            "8    2.719\n",
            "9    2.770\n",
            "Name: Fuel_Price, dtype: float64\n"
          ]
        }
      ]
    },
    {
      "cell_type": "code",
      "source": [
        "import pandas as pd\n",
        "import seaborn as sns\n",
        "\n",
        "walmart = pd.read_csv(\"Walmart_sales.csv\")\n",
        "subset_weeklysales = walmart[walmart[\"Weekly_Sales\"] < 10000.00]\n",
        "print(subset_weeklysales.head())"
      ],
      "metadata": {
        "colab": {
          "base_uri": "https://localhost:8080/"
        },
        "id": "zZmpAH0kPxFy",
        "outputId": "65e23ae0-c5fa-48c9-ffe8-fd1649311f25"
      },
      "execution_count": null,
      "outputs": [
        {
          "output_type": "stream",
          "name": "stdout",
          "text": [
            "Empty DataFrame\n",
            "Columns: [Store, Date, Weekly_Sales, Holiday_Flag, Temperature, Fuel_Price, CPI, Unemployment]\n",
            "Index: []\n"
          ]
        }
      ]
    },
    {
      "cell_type": "code",
      "source": [
        "import pandas as pd\n",
        "import seaborn as sns\n",
        "\n",
        "walmart = pd.read_csv(\"Walmart_sales.csv\")\n",
        "#sort high_unemployment by descending unemployment column\n",
        "high_unemployment_srt = walmart.sort_values(\"Unemployment\", ascending=False)\n",
        "#assign unemployment and date into result variable\n",
        "result = high_unemployment_srt[[\"Weekly_Sales\",\"Unemployment\"]]\n",
        "print(result)"
      ],
      "metadata": {
        "colab": {
          "base_uri": "https://localhost:8080/"
        },
        "id": "pVTqEyJQQKcK",
        "outputId": "f95adfa1-1170-4478-e5be-a1c5ef8781fa"
      },
      "execution_count": null,
      "outputs": [
        {
          "output_type": "stream",
          "name": "stdout",
          "text": [
            "      Weekly_Sales  Unemployment\n",
            "3899    1231688.48        14.313\n",
            "5338     303908.81        14.313\n",
            "5336     334441.15        14.313\n",
            "5335     355965.23        14.313\n",
            "5334     351925.36        14.313\n",
            "...            ...           ...\n",
            "562     2125241.68         4.077\n",
            "568     2209835.43         3.879\n",
            "569     2133026.07         3.879\n",
            "570     2097266.85         3.879\n",
            "571     2149594.46         3.879\n",
            "\n",
            "[6435 rows x 2 columns]\n"
          ]
        }
      ]
    },
    {
      "cell_type": "code",
      "source": [
        "#find mean, median, max, and min\n",
        "import pandas as pd\n",
        "import seaborn as sns\n",
        "\n",
        "walmart = pd.read_csv(\"Walmart_sales.csv\")\n",
        "print(walmart[\"Weekly_Sales\"].mean())\n",
        "print(walmart[\"Weekly_Sales\"].median())\n",
        "print(walmart[\"Weekly_Sales\"].max())\n",
        "print(walmart[\"Weekly_Sales\"].min())"
      ],
      "metadata": {
        "colab": {
          "base_uri": "https://localhost:8080/"
        },
        "id": "GIfRosHqQd2m",
        "outputId": "c80bb0be-b0f2-44d7-f3ea-4a3c38ed0ea4"
      },
      "execution_count": null,
      "outputs": [
        {
          "output_type": "stream",
          "name": "stdout",
          "text": [
            "1046964.8775617715\n",
            "960746.04\n",
            "3818686.45\n",
            "209986.25\n"
          ]
        }
      ]
    },
    {
      "cell_type": "code",
      "source": [
        "import numpy as np\n",
        "import pandas as pd\n",
        "\n",
        "walmart = pd.read_csv(\"Walmart_sales.csv\")\n",
        "# A custom IQR function\n",
        "def iqr(column):\n",
        "    return column.quantile(0.75) - column.quantile(0.25)\n",
        "\n",
        "# Print IQR of the temperature_c column\n",
        "print(walmart[\"Weekly_Sales\"].agg(iqr))"
      ],
      "metadata": {
        "colab": {
          "base_uri": "https://localhost:8080/"
        },
        "id": "Rl6IGI3BQy8_",
        "outputId": "cd6080de-0f41-432d-b010-cc71482bce85"
      },
      "execution_count": null,
      "outputs": [
        {
          "output_type": "stream",
          "name": "stdout",
          "text": [
            "866808.5549999999\n"
          ]
        }
      ]
    },
    {
      "cell_type": "code",
      "source": [
        "import numpy as np\n",
        "import pandas as pd\n",
        "\n",
        "walmart = pd.read_csv(\"Walmart_sales.csv\")\n",
        "# A custom IQR function\n",
        "def iqr(column):\n",
        "    return column.quantile(0.75) - column.quantile(0.25)\n",
        "\n",
        "# Update to print IQR of temperature_c, fuel_price_usd_per_l, & unemployment\n",
        "print(walmart[[\"Weekly_Sales\", \"Fuel_Price\", \"Unemployment\"]].agg(iqr))"
      ],
      "metadata": {
        "colab": {
          "base_uri": "https://localhost:8080/"
        },
        "id": "kOGX4gplRCQp",
        "outputId": "3107e6a8-94da-458b-a159-ca15b162f74c"
      },
      "execution_count": null,
      "outputs": [
        {
          "output_type": "stream",
          "name": "stdout",
          "text": [
            "Weekly_Sales    866808.555\n",
            "Fuel_Price           0.802\n",
            "Unemployment         1.731\n",
            "dtype: float64\n"
          ]
        }
      ]
    },
    {
      "cell_type": "code",
      "source": [
        "import pandas as pd\n",
        "import seaborn as sns\n",
        "\n",
        "walmart_sales = pd.read_csv(\"Walmart_sales.csv\")\n",
        "unique_sales = walmart_sales[\"Weekly_Sales\"].value_counts(sort=True)\n",
        "print(unique_sales)"
      ],
      "metadata": {
        "colab": {
          "base_uri": "https://localhost:8080/"
        },
        "id": "aN-ko7jDRRe2",
        "outputId": "ad12aba2-cac5-49c7-e7c8-916334d3f578"
      },
      "execution_count": null,
      "outputs": [
        {
          "output_type": "stream",
          "name": "stdout",
          "text": [
            "Weekly_Sales\n",
            "1643690.90    1\n",
            "446751.45     1\n",
            "1332261.01    1\n",
            "1366193.35    1\n",
            "1384870.51    1\n",
            "             ..\n",
            "551799.63     1\n",
            "573498.64     1\n",
            "553901.97     1\n",
            "533161.64     1\n",
            "760281.43     1\n",
            "Name: count, Length: 6435, dtype: int64\n"
          ]
        }
      ]
    },
    {
      "cell_type": "code",
      "source": [
        "import pandas as pd\n",
        "import seaborn as sns\n",
        "\n",
        "walmart = pd.read_csv(\"Walmart_sales.csv\")\n",
        "unique_type = walmart[\"Holiday_Flag\"].value_counts()\n",
        "print(unique_type)"
      ],
      "metadata": {
        "colab": {
          "base_uri": "https://localhost:8080/"
        },
        "id": "wxvPoYPMRiDM",
        "outputId": "43fe11bd-524a-49a0-a2c1-a7076405cf38"
      },
      "execution_count": null,
      "outputs": [
        {
          "output_type": "stream",
          "name": "stdout",
          "text": [
            "Holiday_Flag\n",
            "0    5985\n",
            "1     450\n",
            "Name: count, dtype: int64\n"
          ]
        }
      ]
    },
    {
      "cell_type": "code",
      "source": [
        "import pandas as pd\n",
        "import seaborn as sns\n",
        "\n",
        "walmart = pd.read_csv(\"Walmart_sales.csv\")\n",
        "unique_temp = walmart[\"Temperature\"].value_counts(sort=False, normalize=True)\n",
        "print(unique_temp)"
      ],
      "metadata": {
        "colab": {
          "base_uri": "https://localhost:8080/"
        },
        "id": "79TG1S_pRyRG",
        "outputId": "ca0c19ff-04ef-4fb7-f2b6-2cfb4cccf1a1"
      },
      "execution_count": null,
      "outputs": [
        {
          "output_type": "stream",
          "name": "stdout",
          "text": [
            "Temperature\n",
            "42.31    0.000311\n",
            "38.51    0.000466\n",
            "39.93    0.000777\n",
            "46.63    0.000155\n",
            "46.50    0.000311\n",
            "           ...   \n",
            "82.01    0.000155\n",
            "86.36    0.000155\n",
            "75.87    0.000155\n",
            "77.55    0.000155\n",
            "74.09    0.000155\n",
            "Name: proportion, Length: 3528, dtype: float64\n"
          ]
        }
      ]
    },
    {
      "cell_type": "code",
      "source": [
        "import pandas as pd\n",
        "import seaborn as sns\n",
        "\n",
        "walmart = pd.read_csv(\"Walmart_sales.csv\")\n",
        "unique_fuelprice = walmart[\"Fuel_Price\"].value_counts(sort=True)\n",
        "print(unique_fuelprice)"
      ],
      "metadata": {
        "colab": {
          "base_uri": "https://localhost:8080/"
        },
        "id": "bW_-RUbdSVv4",
        "outputId": "261cf591-8f12-4ddd-b5b6-7c21ca6b7998"
      },
      "execution_count": null,
      "outputs": [
        {
          "output_type": "stream",
          "name": "stdout",
          "text": [
            "Fuel_Price\n",
            "3.638    39\n",
            "3.630    34\n",
            "2.771    29\n",
            "3.891    29\n",
            "3.524    28\n",
            "         ..\n",
            "2.863     1\n",
            "2.995     1\n",
            "3.053     1\n",
            "3.448     1\n",
            "3.576     1\n",
            "Name: count, Length: 892, dtype: int64\n"
          ]
        }
      ]
    },
    {
      "cell_type": "code",
      "source": [
        "#grouped summary statistics\n",
        "import pandas as pd\n",
        "import numpy as np\n",
        "import seaborn as sns\n",
        "\n",
        "walmart = pd.read_csv(\"Walmart_sales.csv\")\n",
        "# Import numpy with the alias np\n",
        "\n",
        "# For each store type, aggregate unemployment and fuel_price_usd_per_l: get min, max, mean, and median\n",
        "unemp_fuel_stats = walmart.groupby(\"Holiday_Flag\")[[\"Unemployment\",\"Fuel_Price\"]].agg([np.min, np.max, np.mean, np.median])\n",
        "\n",
        "# Print unemp_fuel_stats\n",
        "print(unemp_fuel_stats)"
      ],
      "metadata": {
        "colab": {
          "base_uri": "https://localhost:8080/"
        },
        "id": "FCA88Y74YlWz",
        "outputId": "c05b32e6-0c5c-40a9-bad4-4bf3f9404cd0"
      },
      "execution_count": null,
      "outputs": [
        {
          "output_type": "stream",
          "name": "stdout",
          "text": [
            "             Unemployment                          Fuel_Price         \\\n",
            "                      min     max      mean median        min    max   \n",
            "Holiday_Flag                                                           \n",
            "0                   3.879  14.313  7.993514  7.874      2.472  4.468   \n",
            "1                   4.077  14.313  8.074127  7.890      2.513  4.124   \n",
            "\n",
            "                               \n",
            "                  mean median  \n",
            "Holiday_Flag                   \n",
            "0             3.368467  3.475  \n",
            "1             3.227464  3.179  \n"
          ]
        },
        {
          "output_type": "stream",
          "name": "stderr",
          "text": [
            "<ipython-input-30-a5222ddcd2a9>:10: FutureWarning: The provided callable <function min at 0x7c2cbf96f5b0> is currently using SeriesGroupBy.min. In a future version of pandas, the provided callable will be used directly. To keep current behavior pass the string \"min\" instead.\n",
            "  unemp_fuel_stats = walmart.groupby(\"Holiday_Flag\")[[\"Unemployment\",\"Fuel_Price\"]].agg([np.min, np.max, np.mean, np.median])\n",
            "<ipython-input-30-a5222ddcd2a9>:10: FutureWarning: The provided callable <function max at 0x7c2cbf96f490> is currently using SeriesGroupBy.max. In a future version of pandas, the provided callable will be used directly. To keep current behavior pass the string \"max\" instead.\n",
            "  unemp_fuel_stats = walmart.groupby(\"Holiday_Flag\")[[\"Unemployment\",\"Fuel_Price\"]].agg([np.min, np.max, np.mean, np.median])\n",
            "<ipython-input-30-a5222ddcd2a9>:10: FutureWarning: The provided callable <function mean at 0x7c2cbf96fd90> is currently using SeriesGroupBy.mean. In a future version of pandas, the provided callable will be used directly. To keep current behavior pass the string \"mean\" instead.\n",
            "  unemp_fuel_stats = walmart.groupby(\"Holiday_Flag\")[[\"Unemployment\",\"Fuel_Price\"]].agg([np.min, np.max, np.mean, np.median])\n",
            "<ipython-input-30-a5222ddcd2a9>:10: FutureWarning: The provided callable <function median at 0x7c2cbf347490> is currently using SeriesGroupBy.median. In a future version of pandas, the provided callable will be used directly. To keep current behavior pass the string \"median\" instead.\n",
            "  unemp_fuel_stats = walmart.groupby(\"Holiday_Flag\")[[\"Unemployment\",\"Fuel_Price\"]].agg([np.min, np.max, np.mean, np.median])\n"
          ]
        }
      ]
    },
    {
      "cell_type": "code",
      "source": [
        "#grouped summary statistics\n",
        "import pandas as pd\n",
        "import numpy as np\n",
        "import seaborn as sns\n",
        "\n",
        "walmart = pd.read_csv(\"Walmart_sales.csv\")\n",
        "# Import numpy with the alias np\n",
        "\n",
        "# For each store type, aggregate weekly_sales: get min, max, mean, and median\n",
        "sales_stats = walmart.groupby(\"Holiday_Flag\")[\"Weekly_Sales\"].agg([np.min, np.max, np.mean, np.median])\n",
        "print(sales_stats)"
      ],
      "metadata": {
        "colab": {
          "base_uri": "https://localhost:8080/"
        },
        "id": "kIXRnSzAdlqi",
        "outputId": "70f5331c-1656-46ae-8113-70bb1bc257bd"
      },
      "execution_count": null,
      "outputs": [
        {
          "output_type": "stream",
          "name": "stdout",
          "text": [
            "                    min         max          mean      median\n",
            "Holiday_Flag                                                 \n",
            "0             209986.25  3818686.45  1.041256e+06   956211.20\n",
            "1             215359.21  3004702.33  1.122888e+06  1018538.04\n"
          ]
        },
        {
          "output_type": "stream",
          "name": "stderr",
          "text": [
            "<ipython-input-32-b06451cce441>:10: FutureWarning: The provided callable <function min at 0x7c2cbf96f5b0> is currently using SeriesGroupBy.min. In a future version of pandas, the provided callable will be used directly. To keep current behavior pass the string \"min\" instead.\n",
            "  sales_stats = walmart.groupby(\"Holiday_Flag\")[\"Weekly_Sales\"].agg([np.min, np.max, np.mean, np.median])\n",
            "<ipython-input-32-b06451cce441>:10: FutureWarning: The provided callable <function max at 0x7c2cbf96f490> is currently using SeriesGroupBy.max. In a future version of pandas, the provided callable will be used directly. To keep current behavior pass the string \"max\" instead.\n",
            "  sales_stats = walmart.groupby(\"Holiday_Flag\")[\"Weekly_Sales\"].agg([np.min, np.max, np.mean, np.median])\n",
            "<ipython-input-32-b06451cce441>:10: FutureWarning: The provided callable <function mean at 0x7c2cbf96fd90> is currently using SeriesGroupBy.mean. In a future version of pandas, the provided callable will be used directly. To keep current behavior pass the string \"mean\" instead.\n",
            "  sales_stats = walmart.groupby(\"Holiday_Flag\")[\"Weekly_Sales\"].agg([np.min, np.max, np.mean, np.median])\n",
            "<ipython-input-32-b06451cce441>:10: FutureWarning: The provided callable <function median at 0x7c2cbf347490> is currently using SeriesGroupBy.median. In a future version of pandas, the provided callable will be used directly. To keep current behavior pass the string \"median\" instead.\n",
            "  sales_stats = walmart.groupby(\"Holiday_Flag\")[\"Weekly_Sales\"].agg([np.min, np.max, np.mean, np.median])\n"
          ]
        }
      ]
    },
    {
      "cell_type": "code",
      "source": [
        "#indexing and slicing\n",
        "import pandas as pd\n",
        "import numpy as np\n",
        "import seaborn as sns\n",
        "\n",
        "walmart = pd.read_csv(\"Walmart_sales.csv\")\n",
        "#sort the index before slice it\n",
        "index_sort = walmart.set_index(\"Date\").sort_index()\n",
        "#slicing by dates\n",
        "#index_date = index_sort.loc[\"2010-09-03\":\"2010-11-05\"]\n",
        "print(index_date)"
      ],
      "metadata": {
        "colab": {
          "base_uri": "https://localhost:8080/"
        },
        "id": "ZRB3T_j_d6HB",
        "outputId": "b13ff335-ed17-4e33-9c63-33914b4e571f"
      },
      "execution_count": null,
      "outputs": [
        {
          "output_type": "stream",
          "name": "stdout",
          "text": [
            "Empty DataFrame\n",
            "Columns: [Store, Weekly_Sales, Holiday_Flag, Temperature, Fuel_Price, CPI, Unemployment]\n",
            "Index: []\n"
          ]
        }
      ]
    },
    {
      "cell_type": "code",
      "source": [
        "#slicing columns\n",
        "import pandas as pd\n",
        "import numpy as np\n",
        "import seaborn as sns\n",
        "\n",
        "walmart = pd.read_csv(\"Walmart_sales.csv\")\n",
        "#sort the index before slice it\n",
        "index_sort = walmart.set_index(\"Date\").sort_index()\n",
        "#slicing certain columns\n",
        "slice_columns = index_sort.loc[:, \"Weekly_Sales\":\"Holiday_Flag\"]\n",
        "print(slice_columns.head(10))"
      ],
      "metadata": {
        "colab": {
          "base_uri": "https://localhost:8080/"
        },
        "id": "o-4a0jategLh",
        "outputId": "d1f3b064-919d-4211-a3b9-19b9e650aa40"
      },
      "execution_count": null,
      "outputs": [
        {
          "output_type": "stream",
          "name": "stdout",
          "text": [
            "            Weekly_Sales  Holiday_Flag\n",
            "Date                                  \n",
            "01-04-2011     534578.78             0\n",
            "01-04-2011     520962.14             0\n",
            "01-04-2011    1864238.64             0\n",
            "01-04-2011    1305950.22             0\n",
            "01-04-2011     611585.54             0\n",
            "01-04-2011    1163803.30             0\n",
            "01-04-2011     732056.37             0\n",
            "01-04-2011    1628868.28             0\n",
            "01-04-2011     374556.08             0\n",
            "01-04-2011     475615.26             0\n"
          ]
        }
      ]
    },
    {
      "cell_type": "code",
      "source": [
        "#slice the inner index level\n",
        "import pandas as pd\n",
        "import numpy as np\n",
        "import seaborn as sns\n",
        "\n",
        "walmart = pd.read_csv(\"Walmart_sales.csv\")\n",
        "#sort the index before slice it\n",
        "#index_sort = walmart.set_index(\"Date\").sort_index()\n",
        "#subset rows\n",
        "print(index_sort.loc[\"2010-02-05\":\"2010-02-05\"])"
      ],
      "metadata": {
        "colab": {
          "base_uri": "https://localhost:8080/"
        },
        "id": "bObNUdDyeswS",
        "outputId": "6dc3814b-47e9-4982-b9ce-bd55ba7a457a"
      },
      "execution_count": null,
      "outputs": [
        {
          "output_type": "stream",
          "name": "stdout",
          "text": [
            "Empty DataFrame\n",
            "Columns: [Store, Weekly_Sales, Holiday_Flag, Temperature, Fuel_Price, CPI, Unemployment]\n",
            "Index: []\n"
          ]
        }
      ]
    },
    {
      "cell_type": "code",
      "source": [
        "#subsetting by row/column number\n",
        "import pandas as pd\n",
        "import numpy as np\n",
        "import seaborn as sns\n",
        "\n",
        "walmart = pd.read_csv(\"Walmart_sales.csv\")\n",
        "#sort the index before slice it\n",
        "index_sort = walmart.set_index(\"Date\").sort_index()\n",
        "#slicing in both directions at once\n",
        "print(index_sort.iloc[:5, 2:5])"
      ],
      "metadata": {
        "colab": {
          "base_uri": "https://localhost:8080/"
        },
        "id": "LmcmsmjYe_zq",
        "outputId": "97f1e9c7-56bf-451f-e95d-1a03bc58071e"
      },
      "execution_count": null,
      "outputs": [
        {
          "output_type": "stream",
          "name": "stdout",
          "text": [
            "            Holiday_Flag  Temperature  Fuel_Price\n",
            "Date                                             \n",
            "01-04-2011             0        67.31       3.524\n",
            "01-04-2011             0        56.12       3.524\n",
            "01-04-2011             0        42.49       3.487\n",
            "01-04-2011             0        30.68       3.811\n",
            "01-04-2011             0        67.79       3.524\n"
          ]
        }
      ]
    },
    {
      "cell_type": "code",
      "source": [
        "#detecting missing values\n",
        "import pandas as pd\n",
        "import seaborn as sns\n",
        "\n",
        "walmart = pd.read_csv(\"Walmart_sales.csv\")\n",
        "#checking any missing values each columns\n",
        "check_na_walmart = walmart.isna().any()\n",
        "print(check_na_walmart)"
      ],
      "metadata": {
        "colab": {
          "base_uri": "https://localhost:8080/"
        },
        "id": "0GJ124uIfOf-",
        "outputId": "4f689f15-3dd0-4f9e-d360-997b68589060"
      },
      "execution_count": null,
      "outputs": [
        {
          "output_type": "stream",
          "name": "stdout",
          "text": [
            "Store           False\n",
            "Date            False\n",
            "Weekly_Sales    False\n",
            "Holiday_Flag    False\n",
            "Temperature     False\n",
            "Fuel_Price      False\n",
            "CPI             False\n",
            "Unemployment    False\n",
            "dtype: bool\n"
          ]
        }
      ]
    },
    {
      "cell_type": "code",
      "source": [
        "#counting for missing values\n",
        "import pandas as pd\n",
        "import seaborn as sns\n",
        "\n",
        "walmart = pd.read_csv(\"Walmart_sales.csv\")\n",
        "#count any missing values each columns\n",
        "count_na_walmart = walmart.isna().sum()\n",
        "print(count_na_walmart)"
      ],
      "metadata": {
        "colab": {
          "base_uri": "https://localhost:8080/"
        },
        "id": "4MBNCX8SfaAK",
        "outputId": "715b273d-013e-48ce-a75d-14a4f8ed14dd"
      },
      "execution_count": null,
      "outputs": [
        {
          "output_type": "stream",
          "name": "stdout",
          "text": [
            "Store           0\n",
            "Date            0\n",
            "Weekly_Sales    0\n",
            "Holiday_Flag    0\n",
            "Temperature     0\n",
            "Fuel_Price      0\n",
            "CPI             0\n",
            "Unemployment    0\n",
            "dtype: int64\n"
          ]
        }
      ]
    },
    {
      "cell_type": "code",
      "source": [],
      "metadata": {
        "id": "yJeIFJ8wfh7a"
      },
      "execution_count": null,
      "outputs": []
    }
  ]
}