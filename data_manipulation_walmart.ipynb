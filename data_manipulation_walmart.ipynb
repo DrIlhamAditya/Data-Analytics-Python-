{
  "metadata": {
    "kernelspec": {
      "name": "python",
      "display_name": "Python (Pyodide)",
      "language": "python"
    },
    "language_info": {
      "codemirror_mode": {
        "name": "python",
        "version": 3
      },
      "file_extension": ".py",
      "mimetype": "text/x-python",
      "name": "python",
      "nbconvert_exporter": "python",
      "pygments_lexer": "ipython3",
      "version": "3.8"
    }
  },
  "nbformat_minor": 4,
  "nbformat": 4,
  "cells": [
    {
      "cell_type": "code",
      "source": "import pandas as pd \n\nwalmart_sales = pd.read_csv(\"sales_subset.csv\")\nwalmart_sales.head()",
      "metadata": {
        "trusted": true
      },
      "outputs": [
        {
          "execution_count": 4,
          "output_type": "execute_result",
          "data": {
            "text/plain": "   Unnamed: 0  store type  department        date  weekly_sales  is_holiday  \\\n0           0      1    A           1  2010-02-05      24924.50       False   \n1           1      1    A           1  2010-03-05      21827.90       False   \n2           2      1    A           1  2010-04-02      57258.43       False   \n3           3      1    A           1  2010-05-07      17413.94       False   \n4           4      1    A           1  2010-06-04      17558.09       False   \n\n   temperature_c  fuel_price_usd_per_l  unemployment  \n0       5.727778              0.679451         8.106  \n1       8.055556              0.693452         8.106  \n2      16.816667              0.718284         7.808  \n3      22.527778              0.748928         7.808  \n4      27.050000              0.714586         7.808  ",
            "text/html": "<div>\n<style scoped>\n    .dataframe tbody tr th:only-of-type {\n        vertical-align: middle;\n    }\n\n    .dataframe tbody tr th {\n        vertical-align: top;\n    }\n\n    .dataframe thead th {\n        text-align: right;\n    }\n</style>\n<table border=\"1\" class=\"dataframe\">\n  <thead>\n    <tr style=\"text-align: right;\">\n      <th></th>\n      <th>Unnamed: 0</th>\n      <th>store</th>\n      <th>type</th>\n      <th>department</th>\n      <th>date</th>\n      <th>weekly_sales</th>\n      <th>is_holiday</th>\n      <th>temperature_c</th>\n      <th>fuel_price_usd_per_l</th>\n      <th>unemployment</th>\n    </tr>\n  </thead>\n  <tbody>\n    <tr>\n      <th>0</th>\n      <td>0</td>\n      <td>1</td>\n      <td>A</td>\n      <td>1</td>\n      <td>2010-02-05</td>\n      <td>24924.50</td>\n      <td>False</td>\n      <td>5.727778</td>\n      <td>0.679451</td>\n      <td>8.106</td>\n    </tr>\n    <tr>\n      <th>1</th>\n      <td>1</td>\n      <td>1</td>\n      <td>A</td>\n      <td>1</td>\n      <td>2010-03-05</td>\n      <td>21827.90</td>\n      <td>False</td>\n      <td>8.055556</td>\n      <td>0.693452</td>\n      <td>8.106</td>\n    </tr>\n    <tr>\n      <th>2</th>\n      <td>2</td>\n      <td>1</td>\n      <td>A</td>\n      <td>1</td>\n      <td>2010-04-02</td>\n      <td>57258.43</td>\n      <td>False</td>\n      <td>16.816667</td>\n      <td>0.718284</td>\n      <td>7.808</td>\n    </tr>\n    <tr>\n      <th>3</th>\n      <td>3</td>\n      <td>1</td>\n      <td>A</td>\n      <td>1</td>\n      <td>2010-05-07</td>\n      <td>17413.94</td>\n      <td>False</td>\n      <td>22.527778</td>\n      <td>0.748928</td>\n      <td>7.808</td>\n    </tr>\n    <tr>\n      <th>4</th>\n      <td>4</td>\n      <td>1</td>\n      <td>A</td>\n      <td>1</td>\n      <td>2010-06-04</td>\n      <td>17558.09</td>\n      <td>False</td>\n      <td>27.050000</td>\n      <td>0.714586</td>\n      <td>7.808</td>\n    </tr>\n  </tbody>\n</table>\n</div>"
          },
          "metadata": {}
        }
      ],
      "execution_count": 4
    },
    {
      "cell_type": "code",
      "source": "import pandas as pd \n\nwalmart_sales = pd.read_csv(\"sales_subset.csv\")\nwalmart_sales.columns ",
      "metadata": {
        "trusted": true
      },
      "outputs": [
        {
          "execution_count": 9,
          "output_type": "execute_result",
          "data": {
            "text/plain": "Index(['Unnamed: 0', 'store', 'type', 'department', 'date', 'weekly_sales',\n       'is_holiday', 'temperature_c', 'fuel_price_usd_per_l', 'unemployment'],\n      dtype='object')"
          },
          "metadata": {}
        }
      ],
      "execution_count": 9
    },
    {
      "cell_type": "code",
      "source": "import pandas as pd \n\nwalmart_sales = pd.read_csv(\"sales_subset.csv\")\nwalmart_sales.index",
      "metadata": {
        "trusted": true
      },
      "outputs": [
        {
          "execution_count": 1,
          "output_type": "execute_result",
          "data": {
            "text/plain": "RangeIndex(start=0, stop=10774, step=1)"
          },
          "metadata": {}
        }
      ],
      "execution_count": 1
    },
    {
      "cell_type": "code",
      "source": "import pandas as pd \n\nwalmart_sales = pd.read_csv(\"sales_subset.csv\")\nwalmart_sales.info()",
      "metadata": {
        "trusted": true
      },
      "outputs": [
        {
          "name": "stdout",
          "text": "<class 'pandas.core.frame.DataFrame'>\nRangeIndex: 10774 entries, 0 to 10773\nData columns (total 10 columns):\n #   Column                Non-Null Count  Dtype  \n---  ------                --------------  -----  \n 0   Unnamed: 0            10774 non-null  int64  \n 1   store                 10774 non-null  int64  \n 2   type                  10774 non-null  object \n 3   department            10774 non-null  int64  \n 4   date                  10774 non-null  object \n 5   weekly_sales          10774 non-null  float64\n 6   is_holiday            10774 non-null  bool   \n 7   temperature_c         10774 non-null  float64\n 8   fuel_price_usd_per_l  10774 non-null  float64\n 9   unemployment          10774 non-null  float64\ndtypes: bool(1), float64(4), int64(3), object(2)\nmemory usage: 684.0+ KB\n",
          "output_type": "stream"
        }
      ],
      "execution_count": 18
    },
    {
      "cell_type": "code",
      "source": "import pandas as pd \n\nwalmart_sales = pd.read_csv(\"sales_subset.csv\")\n#sorting values in \"fuel_price_usd_per_l\" column with ascending sort\nwalmart_sales = walmart_sales.sort_values(\"fuel_price_usd_per_l\", ascending=True)\nprint(walmart_sales.head())",
      "metadata": {
        "trusted": true
      },
      "outputs": [
        {
          "name": "stdout",
          "text": "       Unnamed: 0  store type  department        date  weekly_sales  \\\n1345         1345      2    A          39  2010-02-19          0.78   \n2688         2688      4    A          99  2010-02-19          8.98   \n10402       10402     39    A          47  2010-02-12         40.00   \n10569       10569     39    A          78  2010-02-12         12.00   \n10421       10421     39    A          51  2010-02-12         14.96   \n\n       is_holiday  temperature_c  fuel_price_usd_per_l  unemployment  \n1345        False       4.272222              0.664129         8.324  \n2688        False       2.472222              0.670997         8.623  \n10402        True       6.988889              0.673111         8.554  \n10569        True       6.988889              0.673111         8.554  \n10421        True       6.988889              0.673111         8.554  \n",
          "output_type": "stream"
        }
      ],
      "execution_count": 21
    },
    {
      "cell_type": "code",
      "source": "import pandas as pd \n\nwalmart_sales = pd.read_csv(\"sales_subset.csv\")\nfuelprice = walmart_sales[\"fuel_price_usd_per_l\"]\nprint(fuelprice.head(10))",
      "metadata": {
        "trusted": true
      },
      "outputs": [
        {
          "name": "stdout",
          "text": "0    0.679451\n1    0.693452\n2    0.718284\n3    0.748928\n4    0.714586\n5    0.705076\n6    0.693980\n7    0.680772\n8    0.687640\n9    0.710359\nName: fuel_price_usd_per_l, dtype: float64\n",
          "output_type": "stream"
        }
      ],
      "execution_count": 22
    },
    {
      "cell_type": "code",
      "source": "import pandas as pd \n\nwalmart_sales = pd.read_csv(\"sales_subset.csv\")\nsubset_weeklysales = walmart_sales[walmart_sales[\"weekly_sales\"] < 10000.00]\nprint(sort_weeklysales.head())",
      "metadata": {
        "trusted": true
      },
      "outputs": [
        {
          "name": "stdout",
          "text": "    Unnamed: 0  store type  department        date  weekly_sales  is_holiday  \\\n27          27      1    A           3  2010-05-07       9372.80       False   \n28          28      1    A           3  2010-06-04       8001.41       False   \n29          29      1    A           3  2010-07-02       7857.88       False   \n32          32      1    A           3  2010-10-01       9775.17       False   \n33          33      1    A           3  2010-11-05       9825.22       False   \n\n    temperature_c  fuel_price_usd_per_l  unemployment  \n27      22.527778              0.748928         7.808  \n28      27.050000              0.714586         7.808  \n29      27.172222              0.705076         7.787  \n32      22.161111              0.687640         7.838  \n33      14.855556              0.710359         7.838  \n",
          "output_type": "stream"
        }
      ],
      "execution_count": 27
    },
    {
      "cell_type": "code",
      "source": "import pandas as pd \n\nwalmart_sales = pd.read_csv(\"sales_subset.csv\")\n#sort high_unemployment by descending unemployment column \nhigh_unemployment_srt = walmart_sales.sort_values(\"unemployment\", ascending=False)\n#assign unemployment and date into result variable \nresult = high_unemployment_srt[[\"weekly_sales\",\"unemployment\"]]\nprint(result)",
      "metadata": {
        "trusted": true
      },
      "outputs": [
        {
          "name": "stdout",
          "text": "      weekly_sales  unemployment\n4158        102.18         9.765\n3666      45078.34         9.765\n4062      10559.31         9.765\n3714      31934.99         9.765\n3713      36705.57         9.765\n...            ...           ...\n2490        350.00         4.607\n2489        204.00         4.607\n2696        100.00         4.308\n2697         50.02         4.077\n2698        490.00         3.879\n\n[10774 rows x 2 columns]\n",
          "output_type": "stream"
        }
      ],
      "execution_count": 3
    },
    {
      "cell_type": "code",
      "source": "import pandas as pd \n\nwalmart_sales = pd.read_csv(\"sales_subset.csv\")\nprint(walmart_sales[\"weekly_sales\"].mean())\nprint(walmart_sales[\"weekly_sales\"].median())\nprint(walmart_sales[\"weekly_sales\"].max())\nprint(walmart_sales[\"weekly_sales\"].min())",
      "metadata": {
        "trusted": true
      },
      "outputs": [
        {
          "name": "stdout",
          "text": "23843.95014850566\n12049.064999999999\n293966.05\n-1098.0\n",
          "output_type": "stream"
        }
      ],
      "execution_count": 6
    },
    {
      "cell_type": "code",
      "source": "import numpy as np \nimport pandas as pd \n\nwalmart_sales = pd.read_csv(\"sales_subset.csv\")\n# A custom IQR function\ndef iqr(column):\n    return column.quantile(0.75) - column.quantile(0.25)\n    \n# Print IQR of the temperature_c column\nprint(walmart_sales[\"weekly_sales\"].agg(iqr))",
      "metadata": {
        "trusted": true
      },
      "outputs": [
        {
          "name": "stdout",
          "text": "28482.734999999997\n",
          "output_type": "stream"
        }
      ],
      "execution_count": 7
    },
    {
      "cell_type": "code",
      "source": "import numpy as np \nimport pandas as pd \n\nwalmart_sales = pd.read_csv(\"sales_subset.csv\")\n# A custom IQR function\ndef iqr(column):\n    return column.quantile(0.75) - column.quantile(0.25)\n\n# Update to print IQR of temperature_c, fuel_price_usd_per_l, & unemployment\nprint(walmart_sales[[\"weekly_sales\", \"fuel_price_usd_per_l\", \"unemployment\"]].agg(iqr))",
      "metadata": {
        "trusted": true
      },
      "outputs": [
        {
          "name": "stdout",
          "text": "weekly_sales            28482.735000\nfuel_price_usd_per_l        0.073176\nunemployment                0.565000\ndtype: float64\n",
          "output_type": "stream"
        }
      ],
      "execution_count": 8
    },
    {
      "cell_type": "code",
      "source": "import pandas as pd \n\nwalmart_sales = pd.read_csv(\"sales_subset.csv\")\nunique_sales = walmart_sales[\"weekly_sales\"].value_counts(sort=True)\nunique_sales",
      "metadata": {
        "trusted": true
      },
      "outputs": [
        {
          "execution_count": 25,
          "output_type": "execute_result",
          "data": {
            "text/plain": "12.00        25\n10.47        16\n0.00         15\n7.00         14\n5.00         14\n             ..\n112995.06     1\n112630.91     1\n115484.56     1\n123356.64     1\n915.00        1\nName: weekly_sales, Length: 10353, dtype: int64"
          },
          "metadata": {}
        }
      ],
      "execution_count": 25
    },
    {
      "cell_type": "code",
      "source": "import pandas as pd \n\nwalmart_sales = pd.read_csv(\"sales_subset.csv\")\nunique_type = walmart_sales[\"is_holiday\"].value_counts()\nunique_type",
      "metadata": {
        "trusted": true
      },
      "outputs": [
        {
          "execution_count": 24,
          "output_type": "execute_result",
          "data": {
            "text/plain": "False    10732\nTrue        42\nName: is_holiday, dtype: int64"
          },
          "metadata": {}
        }
      ],
      "execution_count": 24
    },
    {
      "cell_type": "code",
      "source": "import pandas as pd \n\nwalmart_sales = pd.read_csv(\"sales_subset.csv\")\nunique_temp = walmart_sales[\"temperature_c\"].value_counts(sort=False, normalize=True)\nunique_temp",
      "metadata": {
        "trusted": true
      },
      "outputs": [
        {
          "execution_count": 26,
          "output_type": "execute_result",
          "data": {
            "text/plain": "5.727778     0.006776\n8.055556     0.006776\n16.816667    0.006683\n22.527778    0.006776\n27.050000    0.006590\n               ...   \n31.072222    0.000093\n17.283333    0.000093\n27.288889    0.000093\n25.644444    0.000093\n22.250000    0.000093\nName: temperature_c, Length: 539, dtype: float64"
          },
          "metadata": {}
        }
      ],
      "execution_count": 26
    },
    {
      "cell_type": "code",
      "source": "import pandas as pd \n\nwalmart_sales = pd.read_csv(\"sales_subset.csv\")\nunique_fuelprice = walmart_sales[\"fuel_price_usd_per_l\"].value_counts(sort=True)\nunique_fuelprice",
      "metadata": {
        "trusted": true,
        "scrolled": true
      },
      "outputs": [
        {
          "execution_count": 22,
          "output_type": "execute_result",
          "data": {
            "text/plain": "0.679451    360\n0.693452    360\n0.748928    357\n0.718284    356\n0.786176    356\n           ... \n1.055632      1\n0.721718      1\n0.692924      1\n0.742324      1\n1.000420      1\nName: fuel_price_usd_per_l, Length: 319, dtype: int64"
          },
          "metadata": {}
        }
      ],
      "execution_count": 22
    },
    {
      "cell_type": "code",
      "source": "#grouped summary statistics \nimport pandas as pd \n\nwalmart_sales = pd.read_csv(\"sales_subset.csv\")\n# Calc total weekly sales\nsales_all = walmart_sales[\"weekly_sales\"].sum()\n\n# Subset for type A stores, calc total weekly sales\nsales_A = walmart_sales[walmart_sales[\"type\"] == \"A\"][\"weekly_sales\"].sum()\n\n# Subset for type B stores, calc total weekly sales\nsales_B = walmart_sales[walmart_sales[\"type\"] == \"B\"][\"weekly_sales\"].sum()\n\n# Subset for type C stores, calc total weekly sales\nsales_C = walmart_sales[walmart_sales[\"type\"] == \"C\"][\"weekly_sales\"].sum()\n\nprint(sales_A)\nprint(sales_B)\nprint(sales_C)",
      "metadata": {
        "trusted": true
      },
      "outputs": [
        {
          "name": "stdout",
          "text": "233716315.01\n23178403.89\n0.0\n",
          "output_type": "stream"
        }
      ],
      "execution_count": 8
    },
    {
      "cell_type": "code",
      "source": "#grouped summary statistics \nimport pandas as pd \n\nwalmart_sales = pd.read_csv(\"sales_subset.csv\")\n# Group by type; calc total weekly sales\nsales_by_type = walmart_sales.groupby(\"type\")[\"weekly_sales\"].mean()\n\n# Get proportion for each type\nsales_propn_by_type = sales_by_type / sum(sales_by_type)\nprint(sales_propn_by_type)",
      "metadata": {
        "trusted": true
      },
      "outputs": [
        {
          "name": "stdout",
          "text": "type\nA    0.479522\nB    0.520478\nName: weekly_sales, dtype: float64\n",
          "output_type": "stream"
        }
      ],
      "execution_count": 1
    },
    {
      "cell_type": "code",
      "source": "#grouped summary statistics \nimport pandas as pd \n\nwalmart_sales = pd.read_csv(\"sales_subset.csv\")\n# From previous step\nsales_by_type = walmart_sales.groupby(\"type\")[\"weekly_sales\"].sum()\n\n# Group by type and is_holiday; calc total weekly sales\nsales_by_type_is_holiday = walmart_sales.groupby([\"type\",\"is_holiday\"])[\"weekly_sales\"].sum()\nprint(sales_by_type_is_holiday)",
      "metadata": {
        "trusted": true
      },
      "outputs": [
        {
          "name": "stdout",
          "text": "type  is_holiday\nA     False         2.336927e+08\n      True          2.360181e+04\nB     False         2.317678e+07\n      True          1.621410e+03\nName: weekly_sales, dtype: float64\n",
          "output_type": "stream"
        }
      ],
      "execution_count": 5
    },
    {
      "cell_type": "code",
      "source": "#grouped summary statistics \nimport pandas as pd \nimport numpy as np \n\nwalmart_sales = pd.read_csv(\"sales_subset.csv\")\n# Import numpy with the alias np\n\n# For each store type, aggregate unemployment and fuel_price_usd_per_l: get min, max, mean, and median\nunemp_fuel_stats = walmart_sales.groupby(\"type\")[[\"unemployment\",\"fuel_price_usd_per_l\"]].agg([np.min, np.max, np.mean, np.median])\n\n# Print unemp_fuel_stats\nprint(unemp_fuel_stats)",
      "metadata": {
        "trusted": true
      },
      "outputs": [
        {
          "name": "stdout",
          "text": "     unemployment                         fuel_price_usd_per_l            \\\n              min    max      mean median                  min       max   \ntype                                                                       \nA           3.879  8.992  7.972611  8.067             0.664129  1.107410   \nB           7.170  9.765  9.279323  9.199             0.760023  1.107674   \n\n                          \n          mean    median  \ntype                      \nA     0.744619  0.735455  \nB     0.805858  0.803348  \n",
          "output_type": "stream"
        }
      ],
      "execution_count": 11
    },
    {
      "cell_type": "code",
      "source": "#grouped summary statistics \nimport pandas as pd \nimport numpy as np \n\nwalmart_sales = pd.read_csv(\"sales_subset.csv\")\n# Import numpy with the alias np\n\n# For each store type, aggregate weekly_sales: get min, max, mean, and median\nsales_stats = walmart_sales.groupby(\"type\")[\"weekly_sales\"].agg([np.min, np.max, np.mean, np.median])\nprint(sales_stats)",
      "metadata": {
        "trusted": true
      },
      "outputs": [
        {
          "name": "stdout",
          "text": "         min        max          mean    median\ntype                                           \nA    -1098.0  293966.05  23674.667242  11943.92\nB     -798.0  232558.51  25696.678370  13336.08\n",
          "output_type": "stream"
        }
      ],
      "execution_count": 12
    },
    {
      "cell_type": "code",
      "source": "#print dataset again\nimport pandas as pd \nimport numpy as np \n\nwalmart_sales = pd.read_csv(\"sales_subset.csv\")\n# Look at temperatures\nwalmart_sales.head(10)",
      "metadata": {
        "trusted": true
      },
      "outputs": [
        {
          "execution_count": 30,
          "output_type": "execute_result",
          "data": {
            "text/plain": "   Unnamed: 0  store type  department        date  weekly_sales  is_holiday  \\\n0           0      1    A           1  2010-02-05      24924.50       False   \n1           1      1    A           1  2010-03-05      21827.90       False   \n2           2      1    A           1  2010-04-02      57258.43       False   \n3           3      1    A           1  2010-05-07      17413.94       False   \n4           4      1    A           1  2010-06-04      17558.09       False   \n5           5      1    A           1  2010-07-02      16333.14       False   \n6           6      1    A           1  2010-08-06      17508.41       False   \n7           7      1    A           1  2010-09-03      16241.78       False   \n8           8      1    A           1  2010-10-01      20094.19       False   \n9           9      1    A           1  2010-11-05      34238.88       False   \n\n   temperature_c  fuel_price_usd_per_l  unemployment  \n0       5.727778              0.679451         8.106  \n1       8.055556              0.693452         8.106  \n2      16.816667              0.718284         7.808  \n3      22.527778              0.748928         7.808  \n4      27.050000              0.714586         7.808  \n5      27.172222              0.705076         7.787  \n6      30.644444              0.693980         7.787  \n7      27.338889              0.680772         7.787  \n8      22.161111              0.687640         7.838  \n9      14.855556              0.710359         7.838  ",
            "text/html": "<div>\n<style scoped>\n    .dataframe tbody tr th:only-of-type {\n        vertical-align: middle;\n    }\n\n    .dataframe tbody tr th {\n        vertical-align: top;\n    }\n\n    .dataframe thead th {\n        text-align: right;\n    }\n</style>\n<table border=\"1\" class=\"dataframe\">\n  <thead>\n    <tr style=\"text-align: right;\">\n      <th></th>\n      <th>Unnamed: 0</th>\n      <th>store</th>\n      <th>type</th>\n      <th>department</th>\n      <th>date</th>\n      <th>weekly_sales</th>\n      <th>is_holiday</th>\n      <th>temperature_c</th>\n      <th>fuel_price_usd_per_l</th>\n      <th>unemployment</th>\n    </tr>\n  </thead>\n  <tbody>\n    <tr>\n      <th>0</th>\n      <td>0</td>\n      <td>1</td>\n      <td>A</td>\n      <td>1</td>\n      <td>2010-02-05</td>\n      <td>24924.50</td>\n      <td>False</td>\n      <td>5.727778</td>\n      <td>0.679451</td>\n      <td>8.106</td>\n    </tr>\n    <tr>\n      <th>1</th>\n      <td>1</td>\n      <td>1</td>\n      <td>A</td>\n      <td>1</td>\n      <td>2010-03-05</td>\n      <td>21827.90</td>\n      <td>False</td>\n      <td>8.055556</td>\n      <td>0.693452</td>\n      <td>8.106</td>\n    </tr>\n    <tr>\n      <th>2</th>\n      <td>2</td>\n      <td>1</td>\n      <td>A</td>\n      <td>1</td>\n      <td>2010-04-02</td>\n      <td>57258.43</td>\n      <td>False</td>\n      <td>16.816667</td>\n      <td>0.718284</td>\n      <td>7.808</td>\n    </tr>\n    <tr>\n      <th>3</th>\n      <td>3</td>\n      <td>1</td>\n      <td>A</td>\n      <td>1</td>\n      <td>2010-05-07</td>\n      <td>17413.94</td>\n      <td>False</td>\n      <td>22.527778</td>\n      <td>0.748928</td>\n      <td>7.808</td>\n    </tr>\n    <tr>\n      <th>4</th>\n      <td>4</td>\n      <td>1</td>\n      <td>A</td>\n      <td>1</td>\n      <td>2010-06-04</td>\n      <td>17558.09</td>\n      <td>False</td>\n      <td>27.050000</td>\n      <td>0.714586</td>\n      <td>7.808</td>\n    </tr>\n    <tr>\n      <th>5</th>\n      <td>5</td>\n      <td>1</td>\n      <td>A</td>\n      <td>1</td>\n      <td>2010-07-02</td>\n      <td>16333.14</td>\n      <td>False</td>\n      <td>27.172222</td>\n      <td>0.705076</td>\n      <td>7.787</td>\n    </tr>\n    <tr>\n      <th>6</th>\n      <td>6</td>\n      <td>1</td>\n      <td>A</td>\n      <td>1</td>\n      <td>2010-08-06</td>\n      <td>17508.41</td>\n      <td>False</td>\n      <td>30.644444</td>\n      <td>0.693980</td>\n      <td>7.787</td>\n    </tr>\n    <tr>\n      <th>7</th>\n      <td>7</td>\n      <td>1</td>\n      <td>A</td>\n      <td>1</td>\n      <td>2010-09-03</td>\n      <td>16241.78</td>\n      <td>False</td>\n      <td>27.338889</td>\n      <td>0.680772</td>\n      <td>7.787</td>\n    </tr>\n    <tr>\n      <th>8</th>\n      <td>8</td>\n      <td>1</td>\n      <td>A</td>\n      <td>1</td>\n      <td>2010-10-01</td>\n      <td>20094.19</td>\n      <td>False</td>\n      <td>22.161111</td>\n      <td>0.687640</td>\n      <td>7.838</td>\n    </tr>\n    <tr>\n      <th>9</th>\n      <td>9</td>\n      <td>1</td>\n      <td>A</td>\n      <td>1</td>\n      <td>2010-11-05</td>\n      <td>34238.88</td>\n      <td>False</td>\n      <td>14.855556</td>\n      <td>0.710359</td>\n      <td>7.838</td>\n    </tr>\n  </tbody>\n</table>\n</div>"
          },
          "metadata": {}
        }
      ],
      "execution_count": 30
    },
    {
      "cell_type": "code",
      "source": "#indexing and slicing\nimport pandas as pd \nimport numpy as np \n\nwalmart_sales = pd.read_csv(\"sales_subset.csv\")\n#sort the index before slice it \nindex_sort = walmart_sales.set_index(\"date\").sort_index() \n#slicing by dates\nindex_date = index_sort.loc[\"2010-09-03\":\"2010-11-05\"]\nprint(index_date)",
      "metadata": {
        "trusted": true
      },
      "outputs": [
        {
          "name": "stdout",
          "text": "            Unnamed: 0  store type  department  weekly_sales  is_holiday  \\\ndate                                                                       \n2010-09-03        7458     20    A          23      36167.02       False   \n2010-09-03        7242     20    A           4      58585.19       False   \n2010-09-03        2814      6    A          10      48048.14       False   \n2010-09-03        3624     10    B           3      36950.39       False   \n2010-09-03        3984     10    B          34      35422.25       False   \n...                ...    ...  ...         ...           ...         ...   \n2010-11-05        3686     10    B           8      90089.63       False   \n2010-11-05        7735     20    A          48       1245.00       False   \n2010-11-05        7604     20    A          35       5544.00       False   \n2010-11-05        4672     13    A          16       4835.28       False   \n2010-11-05        6374     19    A           7      25858.43       False   \n\n            temperature_c  fuel_price_usd_per_l  unemployment  \ndate                                                           \n2010-09-03      24.166667              0.717227         7.527  \n2010-09-03      24.166667              0.717227         7.527  \n2010-09-03      27.861111              0.680772         6.973  \n2010-09-03      28.777778              0.815500         9.199  \n2010-09-03      28.777778              0.815500         9.199  \n...                   ...                   ...           ...  \n2010-11-05      21.688889              0.794894         9.003  \n2010-11-05       5.988889              0.770590         7.484  \n2010-11-05       5.988889              0.770590         7.484  \n2010-11-05       9.977778              0.747871         7.795  \n2010-11-05       5.433333              0.805461         8.067  \n\n[2592 rows x 9 columns]\n",
          "output_type": "stream"
        }
      ],
      "execution_count": 73
    },
    {
      "cell_type": "code",
      "source": "#slicing columns \nimport pandas as pd \nimport numpy as np \n\nwalmart_sales = pd.read_csv(\"sales_subset.csv\")\n#sort the index before slice it \nindex_sort = walmart_sales.set_index(\"date\").sort_index() \n#slicing certain columns \nslice_columns = index_sort.loc[:, \"weekly_sales\":\"is_holiday\"]\nprint(slice_columns.head(10))",
      "metadata": {
        "trusted": true
      },
      "outputs": [
        {
          "name": "stdout",
          "text": "            weekly_sales  is_holiday\ndate                                \n2010-02-05      24924.50       False\n2010-02-05      38597.52       False\n2010-02-05       3840.21       False\n2010-02-05      17590.59       False\n2010-02-05       4929.87       False\n2010-02-05      20578.79       False\n2010-02-05       3953.70       False\n2010-02-05       6916.00       False\n2010-02-05       5089.54       False\n2010-02-05       6261.35       False\n",
          "output_type": "stream"
        }
      ],
      "execution_count": 78
    },
    {
      "cell_type": "code",
      "source": "#slice the inner index level \nimport pandas as pd \nimport numpy as np \n\nwalmart_sales = pd.read_csv(\"sales_subset.csv\")\n#sort the index before slice it \nindex_sort = walmart_sales.set_index(\"date\").sort_index() \n#subset rows \nprint(index_sort.loc[\"2010-02-05\":\"2010-02-05\"])",
      "metadata": {
        "trusted": true
      },
      "outputs": [
        {
          "name": "stdout",
          "text": "            Unnamed: 0  store type  department  weekly_sales  is_holiday  \\\ndate                                                                       \n2010-02-05           0      1    A           1      24924.50       False   \n2010-02-05        6437     19    A          13      38597.52       False   \n2010-02-05        1249      2    A          31       3840.21       False   \n2010-02-05        6449     19    A          14      17590.59       False   \n2010-02-05        6461     19    A          16       4929.87       False   \n...                ...    ...  ...         ...           ...         ...   \n2010-02-05        9555     31    A          52        842.92       False   \n2010-02-05        9177     31    A          16       2561.38       False   \n2010-02-05         180      1    A          17      13223.76       False   \n2010-02-05       10126     39    A          21       6843.57       False   \n2010-02-05       10378     39    A          45          3.77       False   \n\n            temperature_c  fuel_price_usd_per_l  unemployment  \ndate                                                           \n2010-02-05       5.727778              0.679451         8.106  \n2010-02-05      -6.133333              0.780365         8.350  \n2010-02-05       4.550000              0.679451         8.324  \n2010-02-05      -6.133333              0.780365         8.350  \n2010-02-05      -6.133333              0.780365         8.350  \n...                   ...                   ...           ...  \n2010-02-05       3.916667              0.679451         8.324  \n2010-02-05       3.916667              0.679451         8.324  \n2010-02-05       5.727778              0.679451         8.106  \n2010-02-05       6.833333              0.679451         8.554  \n2010-02-05       6.833333              0.679451         8.554  \n\n[869 rows x 9 columns]\n",
          "output_type": "stream"
        }
      ],
      "execution_count": 1
    },
    {
      "cell_type": "code",
      "source": "#subsetting by row/column number\nimport pandas as pd \nimport numpy as np\n\nwalmart_sales = pd.read_csv(\"sales_subset.csv\")\n#sort the index before slice it \nindex_sort = walmart_sales.set_index(\"date\").sort_index() \n#slicing in both directions at once\nprint(index_sort.iloc[:5, 2:5])",
      "metadata": {
        "trusted": true
      },
      "outputs": [
        {
          "name": "stdout",
          "text": "           type  department  weekly_sales\ndate                                     \n2010-02-05    A           1      24924.50\n2010-02-05    A          13      38597.52\n2010-02-05    A          31       3840.21\n2010-02-05    A          14      17590.59\n2010-02-05    A          16       4929.87\n",
          "output_type": "stream"
        }
      ],
      "execution_count": 18
    },
    {
      "cell_type": "code",
      "source": "#detecting missing values \nimport pandas as pd \nimport numpy as np \n\nwalmart_sales = pd.read_csv(\"sales_subset.csv\")\n#checking any missing values each columns\ncheck_na_walmart = walmart_sales.isna().any()\nprint(check_na_walmart)",
      "metadata": {
        "trusted": true
      },
      "outputs": [
        {
          "name": "stdout",
          "text": "Unnamed: 0              False\nstore                   False\ntype                    False\ndepartment              False\ndate                    False\nweekly_sales            False\nis_holiday              False\ntemperature_c           False\nfuel_price_usd_per_l    False\nunemployment            False\ndtype: bool\n",
          "output_type": "stream"
        }
      ],
      "execution_count": 2
    },
    {
      "cell_type": "code",
      "source": "#counting for missing values \nimport pandas as pd \nimport numpy as np \n\nwalmart_sales = pd.read_csv(\"sales_subset.csv\")\n#count any missing values each columns \ncount_na_walmart = walmart_sales.isna().sum()\nprint(count_na_walmart)",
      "metadata": {
        "trusted": true
      },
      "outputs": [
        {
          "name": "stdout",
          "text": "Unnamed: 0              0\nstore                   0\ntype                    0\ndepartment              0\ndate                    0\nweekly_sales            0\nis_holiday              0\ntemperature_c           0\nfuel_price_usd_per_l    0\nunemployment            0\ndtype: int64\n",
          "output_type": "stream"
        }
      ],
      "execution_count": 3
    },
    {
      "cell_type": "code",
      "source": "",
      "metadata": {
        "trusted": true
      },
      "outputs": [],
      "execution_count": null
    }
  ]
}